{
 "cells": [
  {
   "metadata": {},
   "cell_type": "markdown",
   "source": "# Import libraries",
   "id": "33e6273edef8557"
  },
  {
   "metadata": {
    "collapsed": true,
    "ExecuteTime": {
     "end_time": "2025-10-18T08:33:43.198699Z",
     "start_time": "2025-10-18T08:33:43.194722Z"
    }
   },
   "cell_type": "code",
   "source": [
    "import pandas as pd\n",
    "import seaborn as sns\n",
    "import matplotlib.pyplot as plt\n",
    "import seaborn as sns"
   ],
   "id": "initial_id",
   "outputs": [],
   "execution_count": 3
  },
  {
   "metadata": {},
   "cell_type": "markdown",
   "source": "# Load datasets",
   "id": "af99905061220e9c"
  },
  {
   "metadata": {
    "ExecuteTime": {
     "end_time": "2025-10-18T08:33:46.174902Z",
     "start_time": "2025-10-18T08:33:46.127774Z"
    }
   },
   "cell_type": "code",
   "source": [
    "patient_df = pd.read_csv('132/patient.csv', sep = '\\t')\n",
    "station_df = pd.read_csv('132/station.csv', sep= '\\t')\n",
    "observation_df = pd.read_csv('132/observation.csv', sep = '\\t')"
   ],
   "id": "f4aca81b2bfffac0",
   "outputs": [],
   "execution_count": 4
  },
  {
   "metadata": {
    "ExecuteTime": {
     "end_time": "2025-10-18T08:33:47.466601Z",
     "start_time": "2025-10-18T08:33:47.454581Z"
    }
   },
   "cell_type": "code",
   "source": "patient_df.head()",
   "id": "bd5b16a235c3a653",
   "outputs": [
    {
     "data": {
      "text/plain": [
       "                        company  \\\n",
       "0                      小林農林合同会社   \n",
       "1  Gray, Cunningham and Morales   \n",
       "2                        Walter   \n",
       "3                      有限会社遠藤銀行   \n",
       "4                 Munari s.r.l.   \n",
       "\n",
       "                                   current_location               ssn  \\\n",
       "0       (Decimal('32.168477'), Decimal('9.804478'))       302-73-9054   \n",
       "1      (Decimal('-80.289857'), Decimal('2.308813'))       499-92-6793   \n",
       "2    (Decimal('63.5169555'), Decimal('-48.876252'))       925-81-9055   \n",
       "3    (Decimal('-71.015803'), Decimal('140.978474'))       175-19-6965   \n",
       "4  (Decimal('-58.1525245'), Decimal('-120.099037'))  FRSMRL26C50L167Z   \n",
       "\n",
       "                name                  mail  user_id  residence  \\\n",
       "0              清水 英樹    takuma47@gmail.com     1770        NaN   \n",
       "1  Nicholas Campbell    curtis06@yahoo.com      946        NaN   \n",
       "2        Raissa Rose  junkgisbert@yahoo.de     2010        NaN   \n",
       "3              後藤 知実  morimomoko@gmail.com     1100        NaN   \n",
       "4  Eraldo Anguillara   bpergolesi@poste.it     1247        NaN   \n",
       "\n",
       "              username   birthdate  \\\n",
       "0            snakajima  1937-03-07   \n",
       "1           benjamin02  1993-05-15   \n",
       "2             jkoehler         NaN   \n",
       "3        yamaguchikana  2000-08-20   \n",
       "4  guglielmomicheletti         NaN   \n",
       "\n",
       "                                      address          registration  \\\n",
       "0                           岩手県多摩市二つ室27丁目2番7号            2020-08-15   \n",
       "1  0515 Angela Run\\nPort Thomasberg, GU 35535            2018-11-30   \n",
       "2     Louise-Stey-Platz 79\\n88420 Bremervörde  05/09/2025, 00:00:00   \n",
       "3             岡山県横浜市青葉区西小来川26丁目5番4号 南郷屋コーポ985  10/21/2022, 00:00:00   \n",
       "4                                         NaN            2024-11-26   \n",
       "\n",
       "  blood_group  station_ID  \n",
       "0          B-         464  \n",
       "1          A-         109  \n",
       "2          O-         462  \n",
       "3          B-         191  \n",
       "4          B+         588  "
      ],
      "text/html": [
       "<div>\n",
       "<style scoped>\n",
       "    .dataframe tbody tr th:only-of-type {\n",
       "        vertical-align: middle;\n",
       "    }\n",
       "\n",
       "    .dataframe tbody tr th {\n",
       "        vertical-align: top;\n",
       "    }\n",
       "\n",
       "    .dataframe thead th {\n",
       "        text-align: right;\n",
       "    }\n",
       "</style>\n",
       "<table border=\"1\" class=\"dataframe\">\n",
       "  <thead>\n",
       "    <tr style=\"text-align: right;\">\n",
       "      <th></th>\n",
       "      <th>company</th>\n",
       "      <th>current_location</th>\n",
       "      <th>ssn</th>\n",
       "      <th>name</th>\n",
       "      <th>mail</th>\n",
       "      <th>user_id</th>\n",
       "      <th>residence</th>\n",
       "      <th>username</th>\n",
       "      <th>birthdate</th>\n",
       "      <th>address</th>\n",
       "      <th>registration</th>\n",
       "      <th>blood_group</th>\n",
       "      <th>station_ID</th>\n",
       "    </tr>\n",
       "  </thead>\n",
       "  <tbody>\n",
       "    <tr>\n",
       "      <th>0</th>\n",
       "      <td>小林農林合同会社</td>\n",
       "      <td>(Decimal('32.168477'), Decimal('9.804478'))</td>\n",
       "      <td>302-73-9054</td>\n",
       "      <td>清水 英樹</td>\n",
       "      <td>takuma47@gmail.com</td>\n",
       "      <td>1770</td>\n",
       "      <td>NaN</td>\n",
       "      <td>snakajima</td>\n",
       "      <td>1937-03-07</td>\n",
       "      <td>岩手県多摩市二つ室27丁目2番7号</td>\n",
       "      <td>2020-08-15</td>\n",
       "      <td>B-</td>\n",
       "      <td>464</td>\n",
       "    </tr>\n",
       "    <tr>\n",
       "      <th>1</th>\n",
       "      <td>Gray, Cunningham and Morales</td>\n",
       "      <td>(Decimal('-80.289857'), Decimal('2.308813'))</td>\n",
       "      <td>499-92-6793</td>\n",
       "      <td>Nicholas Campbell</td>\n",
       "      <td>curtis06@yahoo.com</td>\n",
       "      <td>946</td>\n",
       "      <td>NaN</td>\n",
       "      <td>benjamin02</td>\n",
       "      <td>1993-05-15</td>\n",
       "      <td>0515 Angela Run\\nPort Thomasberg, GU 35535</td>\n",
       "      <td>2018-11-30</td>\n",
       "      <td>A-</td>\n",
       "      <td>109</td>\n",
       "    </tr>\n",
       "    <tr>\n",
       "      <th>2</th>\n",
       "      <td>Walter</td>\n",
       "      <td>(Decimal('63.5169555'), Decimal('-48.876252'))</td>\n",
       "      <td>925-81-9055</td>\n",
       "      <td>Raissa Rose</td>\n",
       "      <td>junkgisbert@yahoo.de</td>\n",
       "      <td>2010</td>\n",
       "      <td>NaN</td>\n",
       "      <td>jkoehler</td>\n",
       "      <td>NaN</td>\n",
       "      <td>Louise-Stey-Platz 79\\n88420 Bremervörde</td>\n",
       "      <td>05/09/2025, 00:00:00</td>\n",
       "      <td>O-</td>\n",
       "      <td>462</td>\n",
       "    </tr>\n",
       "    <tr>\n",
       "      <th>3</th>\n",
       "      <td>有限会社遠藤銀行</td>\n",
       "      <td>(Decimal('-71.015803'), Decimal('140.978474'))</td>\n",
       "      <td>175-19-6965</td>\n",
       "      <td>後藤 知実</td>\n",
       "      <td>morimomoko@gmail.com</td>\n",
       "      <td>1100</td>\n",
       "      <td>NaN</td>\n",
       "      <td>yamaguchikana</td>\n",
       "      <td>2000-08-20</td>\n",
       "      <td>岡山県横浜市青葉区西小来川26丁目5番4号 南郷屋コーポ985</td>\n",
       "      <td>10/21/2022, 00:00:00</td>\n",
       "      <td>B-</td>\n",
       "      <td>191</td>\n",
       "    </tr>\n",
       "    <tr>\n",
       "      <th>4</th>\n",
       "      <td>Munari s.r.l.</td>\n",
       "      <td>(Decimal('-58.1525245'), Decimal('-120.099037'))</td>\n",
       "      <td>FRSMRL26C50L167Z</td>\n",
       "      <td>Eraldo Anguillara</td>\n",
       "      <td>bpergolesi@poste.it</td>\n",
       "      <td>1247</td>\n",
       "      <td>NaN</td>\n",
       "      <td>guglielmomicheletti</td>\n",
       "      <td>NaN</td>\n",
       "      <td>NaN</td>\n",
       "      <td>2024-11-26</td>\n",
       "      <td>B+</td>\n",
       "      <td>588</td>\n",
       "    </tr>\n",
       "  </tbody>\n",
       "</table>\n",
       "</div>"
      ]
     },
     "execution_count": 5,
     "metadata": {},
     "output_type": "execute_result"
    }
   ],
   "execution_count": 5
  },
  {
   "metadata": {
    "ExecuteTime": {
     "end_time": "2025-10-18T08:33:57.417300Z",
     "start_time": "2025-10-18T08:33:57.406891Z"
    }
   },
   "cell_type": "code",
   "source": "station_df.head()",
   "id": "5ddbd2748b192e8d",
   "outputs": [
    {
     "data": {
      "text/plain": [
       "           QoS code  latitude              revision  longitude      station\n",
       "0         good   JP  36.00000            2020-11-25  139.55722      Okegawa\n",
       "1    excellent   IN  11.93381  05/24/2021, 00:00:00   79.82979   Puducherry\n",
       "2  maintenance   DE  52.21099            2022-05-10    7.02238       Gronau\n",
       "3    excellent   CN  41.09822            2018-01-23  120.74792      Nanpiao\n",
       "4         good   US  33.54428           08 Jun 2024  -84.23381  Stockbridge"
      ],
      "text/html": [
       "<div>\n",
       "<style scoped>\n",
       "    .dataframe tbody tr th:only-of-type {\n",
       "        vertical-align: middle;\n",
       "    }\n",
       "\n",
       "    .dataframe tbody tr th {\n",
       "        vertical-align: top;\n",
       "    }\n",
       "\n",
       "    .dataframe thead th {\n",
       "        text-align: right;\n",
       "    }\n",
       "</style>\n",
       "<table border=\"1\" class=\"dataframe\">\n",
       "  <thead>\n",
       "    <tr style=\"text-align: right;\">\n",
       "      <th></th>\n",
       "      <th>QoS</th>\n",
       "      <th>code</th>\n",
       "      <th>latitude</th>\n",
       "      <th>revision</th>\n",
       "      <th>longitude</th>\n",
       "      <th>station</th>\n",
       "    </tr>\n",
       "  </thead>\n",
       "  <tbody>\n",
       "    <tr>\n",
       "      <th>0</th>\n",
       "      <td>good</td>\n",
       "      <td>JP</td>\n",
       "      <td>36.00000</td>\n",
       "      <td>2020-11-25</td>\n",
       "      <td>139.55722</td>\n",
       "      <td>Okegawa</td>\n",
       "    </tr>\n",
       "    <tr>\n",
       "      <th>1</th>\n",
       "      <td>excellent</td>\n",
       "      <td>IN</td>\n",
       "      <td>11.93381</td>\n",
       "      <td>05/24/2021, 00:00:00</td>\n",
       "      <td>79.82979</td>\n",
       "      <td>Puducherry</td>\n",
       "    </tr>\n",
       "    <tr>\n",
       "      <th>2</th>\n",
       "      <td>maintenance</td>\n",
       "      <td>DE</td>\n",
       "      <td>52.21099</td>\n",
       "      <td>2022-05-10</td>\n",
       "      <td>7.02238</td>\n",
       "      <td>Gronau</td>\n",
       "    </tr>\n",
       "    <tr>\n",
       "      <th>3</th>\n",
       "      <td>excellent</td>\n",
       "      <td>CN</td>\n",
       "      <td>41.09822</td>\n",
       "      <td>2018-01-23</td>\n",
       "      <td>120.74792</td>\n",
       "      <td>Nanpiao</td>\n",
       "    </tr>\n",
       "    <tr>\n",
       "      <th>4</th>\n",
       "      <td>good</td>\n",
       "      <td>US</td>\n",
       "      <td>33.54428</td>\n",
       "      <td>08 Jun 2024</td>\n",
       "      <td>-84.23381</td>\n",
       "      <td>Stockbridge</td>\n",
       "    </tr>\n",
       "  </tbody>\n",
       "</table>\n",
       "</div>"
      ]
     },
     "execution_count": 6,
     "metadata": {},
     "output_type": "execute_result"
    }
   ],
   "execution_count": 6
  },
  {
   "metadata": {
    "ExecuteTime": {
     "end_time": "2025-10-18T08:34:04.240631Z",
     "start_time": "2025-10-18T08:34:04.222728Z"
    }
   },
   "cell_type": "code",
   "source": "observation_df.head()",
   "id": "ba56b776626ab095",
   "outputs": [
    {
     "data": {
      "text/plain": [
       "        SpO₂         HR         PI         RR      EtCO₂       FiO₂  \\\n",
       "0  97.538229  87.194745  11.225419  14.812012  42.113735  33.852538   \n",
       "1  97.933271  80.787303  11.730935  14.964972  39.537692  65.326035   \n",
       "2  98.209983  79.733895  12.839449  14.840668  39.758706  53.925230   \n",
       "3  98.202790  86.156903  11.204152  14.523288  43.448577  35.227704   \n",
       "4  97.951933  78.966258  13.691758  14.992054  39.722280  35.005559   \n",
       "\n",
       "          PRV          BP  Skin Temperature  Motion/Activity index  ...  \\\n",
       "0  144.504405  100.455727         35.961920              10.302567  ...   \n",
       "1  110.615787  102.133386         36.274352               8.975704  ...   \n",
       "2  107.208040  104.036654         35.583851               7.653790  ...   \n",
       "3  143.282224  105.723603         36.463180               8.795732  ...   \n",
       "4  118.524021   98.996494         35.080937               8.388887  ...   \n",
       "\n",
       "         CO  Blood Flow Index  PPG waveform features  Signal Quality Index  \\\n",
       "0  4.022852         58.317397              49.143701             42.399816   \n",
       "1  4.002043         70.127865              15.557799             46.078137   \n",
       "2  4.001451         76.139163              53.879956             41.525607   \n",
       "3  4.015162         49.461570              58.701159             36.535021   \n",
       "4  4.001110         47.065823              52.338305             29.506008   \n",
       "\n",
       "   Respiratory effort  O₂ extraction ratio        SNR  oximetry   latitude  \\\n",
       "0           46.497869             0.289012  39.334620       1.0  49.183239   \n",
       "1           53.351208             0.290879  26.006709       0.0  33.544280   \n",
       "2           52.124182             0.263171  31.890829       1.0 -27.505780   \n",
       "3           50.342830             0.256780  30.721375       1.0  37.656390   \n",
       "4           39.480811             0.276094  38.214856       0.0  51.202190   \n",
       "\n",
       "    longitude  \n",
       "0   15.454273  \n",
       "1  -84.233810  \n",
       "2  153.102360  \n",
       "3  126.835000  \n",
       "4    7.360270  \n",
       "\n",
       "[5 rows x 23 columns]"
      ],
      "text/html": [
       "<div>\n",
       "<style scoped>\n",
       "    .dataframe tbody tr th:only-of-type {\n",
       "        vertical-align: middle;\n",
       "    }\n",
       "\n",
       "    .dataframe tbody tr th {\n",
       "        vertical-align: top;\n",
       "    }\n",
       "\n",
       "    .dataframe thead th {\n",
       "        text-align: right;\n",
       "    }\n",
       "</style>\n",
       "<table border=\"1\" class=\"dataframe\">\n",
       "  <thead>\n",
       "    <tr style=\"text-align: right;\">\n",
       "      <th></th>\n",
       "      <th>SpO₂</th>\n",
       "      <th>HR</th>\n",
       "      <th>PI</th>\n",
       "      <th>RR</th>\n",
       "      <th>EtCO₂</th>\n",
       "      <th>FiO₂</th>\n",
       "      <th>PRV</th>\n",
       "      <th>BP</th>\n",
       "      <th>Skin Temperature</th>\n",
       "      <th>Motion/Activity index</th>\n",
       "      <th>...</th>\n",
       "      <th>CO</th>\n",
       "      <th>Blood Flow Index</th>\n",
       "      <th>PPG waveform features</th>\n",
       "      <th>Signal Quality Index</th>\n",
       "      <th>Respiratory effort</th>\n",
       "      <th>O₂ extraction ratio</th>\n",
       "      <th>SNR</th>\n",
       "      <th>oximetry</th>\n",
       "      <th>latitude</th>\n",
       "      <th>longitude</th>\n",
       "    </tr>\n",
       "  </thead>\n",
       "  <tbody>\n",
       "    <tr>\n",
       "      <th>0</th>\n",
       "      <td>97.538229</td>\n",
       "      <td>87.194745</td>\n",
       "      <td>11.225419</td>\n",
       "      <td>14.812012</td>\n",
       "      <td>42.113735</td>\n",
       "      <td>33.852538</td>\n",
       "      <td>144.504405</td>\n",
       "      <td>100.455727</td>\n",
       "      <td>35.961920</td>\n",
       "      <td>10.302567</td>\n",
       "      <td>...</td>\n",
       "      <td>4.022852</td>\n",
       "      <td>58.317397</td>\n",
       "      <td>49.143701</td>\n",
       "      <td>42.399816</td>\n",
       "      <td>46.497869</td>\n",
       "      <td>0.289012</td>\n",
       "      <td>39.334620</td>\n",
       "      <td>1.0</td>\n",
       "      <td>49.183239</td>\n",
       "      <td>15.454273</td>\n",
       "    </tr>\n",
       "    <tr>\n",
       "      <th>1</th>\n",
       "      <td>97.933271</td>\n",
       "      <td>80.787303</td>\n",
       "      <td>11.730935</td>\n",
       "      <td>14.964972</td>\n",
       "      <td>39.537692</td>\n",
       "      <td>65.326035</td>\n",
       "      <td>110.615787</td>\n",
       "      <td>102.133386</td>\n",
       "      <td>36.274352</td>\n",
       "      <td>8.975704</td>\n",
       "      <td>...</td>\n",
       "      <td>4.002043</td>\n",
       "      <td>70.127865</td>\n",
       "      <td>15.557799</td>\n",
       "      <td>46.078137</td>\n",
       "      <td>53.351208</td>\n",
       "      <td>0.290879</td>\n",
       "      <td>26.006709</td>\n",
       "      <td>0.0</td>\n",
       "      <td>33.544280</td>\n",
       "      <td>-84.233810</td>\n",
       "    </tr>\n",
       "    <tr>\n",
       "      <th>2</th>\n",
       "      <td>98.209983</td>\n",
       "      <td>79.733895</td>\n",
       "      <td>12.839449</td>\n",
       "      <td>14.840668</td>\n",
       "      <td>39.758706</td>\n",
       "      <td>53.925230</td>\n",
       "      <td>107.208040</td>\n",
       "      <td>104.036654</td>\n",
       "      <td>35.583851</td>\n",
       "      <td>7.653790</td>\n",
       "      <td>...</td>\n",
       "      <td>4.001451</td>\n",
       "      <td>76.139163</td>\n",
       "      <td>53.879956</td>\n",
       "      <td>41.525607</td>\n",
       "      <td>52.124182</td>\n",
       "      <td>0.263171</td>\n",
       "      <td>31.890829</td>\n",
       "      <td>1.0</td>\n",
       "      <td>-27.505780</td>\n",
       "      <td>153.102360</td>\n",
       "    </tr>\n",
       "    <tr>\n",
       "      <th>3</th>\n",
       "      <td>98.202790</td>\n",
       "      <td>86.156903</td>\n",
       "      <td>11.204152</td>\n",
       "      <td>14.523288</td>\n",
       "      <td>43.448577</td>\n",
       "      <td>35.227704</td>\n",
       "      <td>143.282224</td>\n",
       "      <td>105.723603</td>\n",
       "      <td>36.463180</td>\n",
       "      <td>8.795732</td>\n",
       "      <td>...</td>\n",
       "      <td>4.015162</td>\n",
       "      <td>49.461570</td>\n",
       "      <td>58.701159</td>\n",
       "      <td>36.535021</td>\n",
       "      <td>50.342830</td>\n",
       "      <td>0.256780</td>\n",
       "      <td>30.721375</td>\n",
       "      <td>1.0</td>\n",
       "      <td>37.656390</td>\n",
       "      <td>126.835000</td>\n",
       "    </tr>\n",
       "    <tr>\n",
       "      <th>4</th>\n",
       "      <td>97.951933</td>\n",
       "      <td>78.966258</td>\n",
       "      <td>13.691758</td>\n",
       "      <td>14.992054</td>\n",
       "      <td>39.722280</td>\n",
       "      <td>35.005559</td>\n",
       "      <td>118.524021</td>\n",
       "      <td>98.996494</td>\n",
       "      <td>35.080937</td>\n",
       "      <td>8.388887</td>\n",
       "      <td>...</td>\n",
       "      <td>4.001110</td>\n",
       "      <td>47.065823</td>\n",
       "      <td>52.338305</td>\n",
       "      <td>29.506008</td>\n",
       "      <td>39.480811</td>\n",
       "      <td>0.276094</td>\n",
       "      <td>38.214856</td>\n",
       "      <td>0.0</td>\n",
       "      <td>51.202190</td>\n",
       "      <td>7.360270</td>\n",
       "    </tr>\n",
       "  </tbody>\n",
       "</table>\n",
       "<p>5 rows × 23 columns</p>\n",
       "</div>"
      ]
     },
     "execution_count": 8,
     "metadata": {},
     "output_type": "execute_result"
    }
   ],
   "execution_count": 8
  },
  {
   "metadata": {},
   "cell_type": "markdown",
   "source": "lets have a look at the attributes",
   "id": "5d200e070f649f78"
  },
  {
   "metadata": {
    "ExecuteTime": {
     "end_time": "2025-10-18T08:53:47.086039Z",
     "start_time": "2025-10-18T08:53:47.081945Z"
    }
   },
   "cell_type": "code",
   "source": "observation_df.columns",
   "id": "dd3a9d2a4becfad0",
   "outputs": [
    {
     "data": {
      "text/plain": [
       "Index(['SpO₂', 'HR', 'PI', 'RR', 'EtCO₂', 'FiO₂', 'PRV', 'BP',\n",
       "       'Skin Temperature', 'Motion/Activity index', 'PVI', 'Hb level', 'SV',\n",
       "       'CO', 'Blood Flow Index', 'PPG waveform features',\n",
       "       'Signal Quality Index', 'Respiratory effort', 'O₂ extraction ratio',\n",
       "       'SNR', 'oximetry', 'latitude', 'longitude'],\n",
       "      dtype='object')"
      ]
     },
     "execution_count": 21,
     "metadata": {},
     "output_type": "execute_result"
    }
   ],
   "execution_count": 21
  },
  {
   "metadata": {
    "ExecuteTime": {
     "end_time": "2025-10-18T08:34:37.845291Z",
     "start_time": "2025-10-18T08:34:37.841532Z"
    }
   },
   "cell_type": "code",
   "source": "station_df.columns",
   "id": "59b4f6f0be2e8d99",
   "outputs": [
    {
     "data": {
      "text/plain": [
       "Index(['QoS', 'code', 'latitude', 'revision', 'longitude', 'station'], dtype='object')"
      ]
     },
     "execution_count": 10,
     "metadata": {},
     "output_type": "execute_result"
    }
   ],
   "execution_count": 10
  },
  {
   "metadata": {
    "ExecuteTime": {
     "end_time": "2025-10-18T08:34:49.322943Z",
     "start_time": "2025-10-18T08:34:49.316359Z"
    }
   },
   "cell_type": "code",
   "source": "patient_df.columns",
   "id": "10825c3ebf281f6f",
   "outputs": [
    {
     "data": {
      "text/plain": [
       "Index(['company', 'current_location', 'ssn', 'name', 'mail', 'user_id',\n",
       "       'residence', 'username', 'birthdate', 'address', 'registration',\n",
       "       'blood_group', 'station_ID'],\n",
       "      dtype='object')"
      ]
     },
     "execution_count": 11,
     "metadata": {},
     "output_type": "execute_result"
    }
   ],
   "execution_count": 11
  },
  {
   "metadata": {
    "ExecuteTime": {
     "end_time": "2025-10-18T08:44:11.349700Z",
     "start_time": "2025-10-18T08:44:11.346103Z"
    }
   },
   "cell_type": "code",
   "source": [
    "\n",
    "for column in observation_df.columns:\n",
    "    if column in station_df.columns:\n",
    "        print ('observation_df and station_df share column :' + str(column) )\n",
    "    if column in patient_df.columns:\n",
    "        print ('observation_df and patient_df share column :' + str(column) )\n",
    "\n",
    "for column in patient_df.columns:\n",
    "    if column in station_df.columns:\n",
    "        print ('station_df and patient_df share column :' + str(column) )"
   ],
   "id": "e85a65e9b70c348d",
   "outputs": [
    {
     "name": "stdout",
     "output_type": "stream",
     "text": [
      "observation_df and station_df share column :latitude\n",
      "observation_df and station_df share column :longitude\n"
     ]
    }
   ],
   "execution_count": 17
  },
  {
   "metadata": {},
   "cell_type": "markdown",
   "source": [
    "we can see that observation and station dataframes might be joinable via coordinates\n",
    "but after manual revision we can see that patient.station_ID will probably map to station ids"
   ],
   "id": "840b53183e6c149a"
  },
  {
   "metadata": {},
   "cell_type": "markdown",
   "source": "before joining the datasets, lets perform some basic EDA",
   "id": "3019e0360cbed24a"
  },
  {
   "metadata": {},
   "cell_type": "markdown",
   "source": "# 1.1 Základný opis dát spolu s ich charakteristikami",
   "id": "6c1c077a0c11e3d8"
  },
  {
   "metadata": {},
   "cell_type": "markdown",
   "source": [
    "## A) Analyza struktur dat ako subory + zaznamy\n",
    "\n",
    "station_df"
   ],
   "id": "2db39a71a0ebc54c"
  },
  {
   "metadata": {
    "ExecuteTime": {
     "end_time": "2025-10-18T08:57:34.627950Z",
     "start_time": "2025-10-18T08:57:34.613993Z"
    }
   },
   "cell_type": "code",
   "source": "station_df.head()",
   "id": "213b2739838aa859",
   "outputs": [
    {
     "data": {
      "text/plain": [
       "           QoS code  latitude              revision  longitude      station\n",
       "0         good   JP  36.00000            2020-11-25  139.55722      Okegawa\n",
       "1    excellent   IN  11.93381  05/24/2021, 00:00:00   79.82979   Puducherry\n",
       "2  maintenance   DE  52.21099            2022-05-10    7.02238       Gronau\n",
       "3    excellent   CN  41.09822            2018-01-23  120.74792      Nanpiao\n",
       "4         good   US  33.54428           08 Jun 2024  -84.23381  Stockbridge"
      ],
      "text/html": [
       "<div>\n",
       "<style scoped>\n",
       "    .dataframe tbody tr th:only-of-type {\n",
       "        vertical-align: middle;\n",
       "    }\n",
       "\n",
       "    .dataframe tbody tr th {\n",
       "        vertical-align: top;\n",
       "    }\n",
       "\n",
       "    .dataframe thead th {\n",
       "        text-align: right;\n",
       "    }\n",
       "</style>\n",
       "<table border=\"1\" class=\"dataframe\">\n",
       "  <thead>\n",
       "    <tr style=\"text-align: right;\">\n",
       "      <th></th>\n",
       "      <th>QoS</th>\n",
       "      <th>code</th>\n",
       "      <th>latitude</th>\n",
       "      <th>revision</th>\n",
       "      <th>longitude</th>\n",
       "      <th>station</th>\n",
       "    </tr>\n",
       "  </thead>\n",
       "  <tbody>\n",
       "    <tr>\n",
       "      <th>0</th>\n",
       "      <td>good</td>\n",
       "      <td>JP</td>\n",
       "      <td>36.00000</td>\n",
       "      <td>2020-11-25</td>\n",
       "      <td>139.55722</td>\n",
       "      <td>Okegawa</td>\n",
       "    </tr>\n",
       "    <tr>\n",
       "      <th>1</th>\n",
       "      <td>excellent</td>\n",
       "      <td>IN</td>\n",
       "      <td>11.93381</td>\n",
       "      <td>05/24/2021, 00:00:00</td>\n",
       "      <td>79.82979</td>\n",
       "      <td>Puducherry</td>\n",
       "    </tr>\n",
       "    <tr>\n",
       "      <th>2</th>\n",
       "      <td>maintenance</td>\n",
       "      <td>DE</td>\n",
       "      <td>52.21099</td>\n",
       "      <td>2022-05-10</td>\n",
       "      <td>7.02238</td>\n",
       "      <td>Gronau</td>\n",
       "    </tr>\n",
       "    <tr>\n",
       "      <th>3</th>\n",
       "      <td>excellent</td>\n",
       "      <td>CN</td>\n",
       "      <td>41.09822</td>\n",
       "      <td>2018-01-23</td>\n",
       "      <td>120.74792</td>\n",
       "      <td>Nanpiao</td>\n",
       "    </tr>\n",
       "    <tr>\n",
       "      <th>4</th>\n",
       "      <td>good</td>\n",
       "      <td>US</td>\n",
       "      <td>33.54428</td>\n",
       "      <td>08 Jun 2024</td>\n",
       "      <td>-84.23381</td>\n",
       "      <td>Stockbridge</td>\n",
       "    </tr>\n",
       "  </tbody>\n",
       "</table>\n",
       "</div>"
      ]
     },
     "execution_count": 31,
     "metadata": {},
     "output_type": "execute_result"
    }
   ],
   "execution_count": 31
  },
  {
   "metadata": {
    "ExecuteTime": {
     "end_time": "2025-10-18T08:53:17.032712Z",
     "start_time": "2025-10-18T08:53:17.028375Z"
    }
   },
   "cell_type": "code",
   "outputs": [
    {
     "data": {
      "text/plain": [
       "(703, 6)"
      ]
     },
     "execution_count": 18,
     "metadata": {},
     "output_type": "execute_result"
    }
   ],
   "execution_count": 18,
   "source": "station_df.shape",
   "id": "8049ad4eab24326b"
  },
  {
   "metadata": {
    "ExecuteTime": {
     "end_time": "2025-10-18T08:53:52.041114Z",
     "start_time": "2025-10-18T08:53:52.038557Z"
    }
   },
   "cell_type": "code",
   "source": "station_df.columns",
   "id": "df820fdf7d6abcea",
   "outputs": [
    {
     "data": {
      "text/plain": [
       "Index(['QoS', 'code', 'latitude', 'revision', 'longitude', 'station'], dtype='object')"
      ]
     },
     "execution_count": 22,
     "metadata": {},
     "output_type": "execute_result"
    }
   ],
   "execution_count": 22
  },
  {
   "metadata": {
    "ExecuteTime": {
     "end_time": "2025-10-18T08:53:57.461077Z",
     "start_time": "2025-10-18T08:53:57.445512Z"
    }
   },
   "cell_type": "code",
   "source": "station_df.dtypes",
   "id": "87964165dd55ec6f",
   "outputs": [
    {
     "data": {
      "text/plain": [
       "QoS           object\n",
       "code          object\n",
       "latitude     float64\n",
       "revision      object\n",
       "longitude    float64\n",
       "station       object\n",
       "dtype: object"
      ]
     },
     "execution_count": 23,
     "metadata": {},
     "output_type": "execute_result"
    }
   ],
   "execution_count": 23
  },
  {
   "metadata": {
    "ExecuteTime": {
     "end_time": "2025-10-18T08:54:04.643954Z",
     "start_time": "2025-10-18T08:54:04.630954Z"
    }
   },
   "cell_type": "code",
   "source": [
    "#2 nas, not bad\n",
    "station_df.isna().sum()"
   ],
   "id": "1ea9d9c79825e46f",
   "outputs": [
    {
     "data": {
      "text/plain": [
       "QoS          0\n",
       "code         2\n",
       "latitude     0\n",
       "revision     0\n",
       "longitude    0\n",
       "station      0\n",
       "dtype: int64"
      ]
     },
     "execution_count": 24,
     "metadata": {},
     "output_type": "execute_result"
    }
   ],
   "execution_count": 24
  },
  {
   "metadata": {
    "ExecuteTime": {
     "end_time": "2025-10-18T08:56:17.750294Z",
     "start_time": "2025-10-18T08:56:17.732635Z"
    }
   },
   "cell_type": "code",
   "source": "station_df[station_df['code'].isna()]",
   "id": "6655fe44eb01586f",
   "outputs": [
    {
     "data": {
      "text/plain": [
       "             QoS code  latitude              revision  longitude    station\n",
       "274  maintenance  NaN -21.98333  02/23/2016, 00:00:00   16.91667  Okahandja\n",
       "318         good  NaN -21.98333           06 Dec 2021   16.91667  Okahandja"
      ],
      "text/html": [
       "<div>\n",
       "<style scoped>\n",
       "    .dataframe tbody tr th:only-of-type {\n",
       "        vertical-align: middle;\n",
       "    }\n",
       "\n",
       "    .dataframe tbody tr th {\n",
       "        vertical-align: top;\n",
       "    }\n",
       "\n",
       "    .dataframe thead th {\n",
       "        text-align: right;\n",
       "    }\n",
       "</style>\n",
       "<table border=\"1\" class=\"dataframe\">\n",
       "  <thead>\n",
       "    <tr style=\"text-align: right;\">\n",
       "      <th></th>\n",
       "      <th>QoS</th>\n",
       "      <th>code</th>\n",
       "      <th>latitude</th>\n",
       "      <th>revision</th>\n",
       "      <th>longitude</th>\n",
       "      <th>station</th>\n",
       "    </tr>\n",
       "  </thead>\n",
       "  <tbody>\n",
       "    <tr>\n",
       "      <th>274</th>\n",
       "      <td>maintenance</td>\n",
       "      <td>NaN</td>\n",
       "      <td>-21.98333</td>\n",
       "      <td>02/23/2016, 00:00:00</td>\n",
       "      <td>16.91667</td>\n",
       "      <td>Okahandja</td>\n",
       "    </tr>\n",
       "    <tr>\n",
       "      <th>318</th>\n",
       "      <td>good</td>\n",
       "      <td>NaN</td>\n",
       "      <td>-21.98333</td>\n",
       "      <td>06 Dec 2021</td>\n",
       "      <td>16.91667</td>\n",
       "      <td>Okahandja</td>\n",
       "    </tr>\n",
       "  </tbody>\n",
       "</table>\n",
       "</div>"
      ]
     },
     "execution_count": 30,
     "metadata": {},
     "output_type": "execute_result"
    }
   ],
   "execution_count": 30
  },
  {
   "metadata": {
    "ExecuteTime": {
     "end_time": "2025-10-18T08:58:35.751451Z",
     "start_time": "2025-10-18T08:58:35.746547Z"
    }
   },
   "cell_type": "code",
   "source": [
    "#mby there is valid code for Okahandja?\n",
    "station_df[station_df['station'] == 'Okahandja']\n",
    "#there is not :("
   ],
   "id": "ce6150b018747af4",
   "outputs": [
    {
     "data": {
      "text/plain": [
       "             QoS code  latitude              revision  longitude    station\n",
       "274  maintenance  NaN -21.98333  02/23/2016, 00:00:00   16.91667  Okahandja\n",
       "318         good  NaN -21.98333           06 Dec 2021   16.91667  Okahandja"
      ],
      "text/html": [
       "<div>\n",
       "<style scoped>\n",
       "    .dataframe tbody tr th:only-of-type {\n",
       "        vertical-align: middle;\n",
       "    }\n",
       "\n",
       "    .dataframe tbody tr th {\n",
       "        vertical-align: top;\n",
       "    }\n",
       "\n",
       "    .dataframe thead th {\n",
       "        text-align: right;\n",
       "    }\n",
       "</style>\n",
       "<table border=\"1\" class=\"dataframe\">\n",
       "  <thead>\n",
       "    <tr style=\"text-align: right;\">\n",
       "      <th></th>\n",
       "      <th>QoS</th>\n",
       "      <th>code</th>\n",
       "      <th>latitude</th>\n",
       "      <th>revision</th>\n",
       "      <th>longitude</th>\n",
       "      <th>station</th>\n",
       "    </tr>\n",
       "  </thead>\n",
       "  <tbody>\n",
       "    <tr>\n",
       "      <th>274</th>\n",
       "      <td>maintenance</td>\n",
       "      <td>NaN</td>\n",
       "      <td>-21.98333</td>\n",
       "      <td>02/23/2016, 00:00:00</td>\n",
       "      <td>16.91667</td>\n",
       "      <td>Okahandja</td>\n",
       "    </tr>\n",
       "    <tr>\n",
       "      <th>318</th>\n",
       "      <td>good</td>\n",
       "      <td>NaN</td>\n",
       "      <td>-21.98333</td>\n",
       "      <td>06 Dec 2021</td>\n",
       "      <td>16.91667</td>\n",
       "      <td>Okahandja</td>\n",
       "    </tr>\n",
       "  </tbody>\n",
       "</table>\n",
       "</div>"
      ]
     },
     "execution_count": 33,
     "metadata": {},
     "output_type": "execute_result"
    }
   ],
   "execution_count": 33
  },
  {
   "metadata": {
    "ExecuteTime": {
     "end_time": "2025-10-18T08:54:11.925343Z",
     "start_time": "2025-10-18T08:54:11.917873Z"
    }
   },
   "cell_type": "code",
   "source": "station_df.nunique()",
   "id": "6248d48ead1b3f79",
   "outputs": [
    {
     "data": {
      "text/plain": [
       "QoS            4\n",
       "code          98\n",
       "latitude     498\n",
       "revision     683\n",
       "longitude    497\n",
       "station      498\n",
       "dtype: int64"
      ]
     },
     "execution_count": 25,
     "metadata": {},
     "output_type": "execute_result"
    }
   ],
   "execution_count": 25
  },
  {
   "metadata": {
    "ExecuteTime": {
     "end_time": "2025-10-18T08:54:46.745624Z",
     "start_time": "2025-10-18T08:54:46.734819Z"
    }
   },
   "cell_type": "code",
   "source": [
    "#prob useless\n",
    "station_df.describe()"
   ],
   "id": "4691d342c84f8beb",
   "outputs": [
    {
     "data": {
      "text/plain": [
       "         latitude   longitude\n",
       "count  703.000000  703.000000\n",
       "mean    28.699220   16.946846\n",
       "std     24.406067   70.122555\n",
       "min    -44.396720 -156.474320\n",
       "25%     14.354040  -14.410810\n",
       "50%     36.650000   13.321270\n",
       "75%     47.432685   71.552920\n",
       "max     65.848110  171.253640"
      ],
      "text/html": [
       "<div>\n",
       "<style scoped>\n",
       "    .dataframe tbody tr th:only-of-type {\n",
       "        vertical-align: middle;\n",
       "    }\n",
       "\n",
       "    .dataframe tbody tr th {\n",
       "        vertical-align: top;\n",
       "    }\n",
       "\n",
       "    .dataframe thead th {\n",
       "        text-align: right;\n",
       "    }\n",
       "</style>\n",
       "<table border=\"1\" class=\"dataframe\">\n",
       "  <thead>\n",
       "    <tr style=\"text-align: right;\">\n",
       "      <th></th>\n",
       "      <th>latitude</th>\n",
       "      <th>longitude</th>\n",
       "    </tr>\n",
       "  </thead>\n",
       "  <tbody>\n",
       "    <tr>\n",
       "      <th>count</th>\n",
       "      <td>703.000000</td>\n",
       "      <td>703.000000</td>\n",
       "    </tr>\n",
       "    <tr>\n",
       "      <th>mean</th>\n",
       "      <td>28.699220</td>\n",
       "      <td>16.946846</td>\n",
       "    </tr>\n",
       "    <tr>\n",
       "      <th>std</th>\n",
       "      <td>24.406067</td>\n",
       "      <td>70.122555</td>\n",
       "    </tr>\n",
       "    <tr>\n",
       "      <th>min</th>\n",
       "      <td>-44.396720</td>\n",
       "      <td>-156.474320</td>\n",
       "    </tr>\n",
       "    <tr>\n",
       "      <th>25%</th>\n",
       "      <td>14.354040</td>\n",
       "      <td>-14.410810</td>\n",
       "    </tr>\n",
       "    <tr>\n",
       "      <th>50%</th>\n",
       "      <td>36.650000</td>\n",
       "      <td>13.321270</td>\n",
       "    </tr>\n",
       "    <tr>\n",
       "      <th>75%</th>\n",
       "      <td>47.432685</td>\n",
       "      <td>71.552920</td>\n",
       "    </tr>\n",
       "    <tr>\n",
       "      <th>max</th>\n",
       "      <td>65.848110</td>\n",
       "      <td>171.253640</td>\n",
       "    </tr>\n",
       "  </tbody>\n",
       "</table>\n",
       "</div>"
      ]
     },
     "execution_count": 27,
     "metadata": {},
     "output_type": "execute_result"
    }
   ],
   "execution_count": 27
  },
  {
   "metadata": {},
   "cell_type": "markdown",
   "source": "patient df",
   "id": "5fc391ddcfdf40df"
  },
  {
   "metadata": {
    "ExecuteTime": {
     "end_time": "2025-10-18T09:05:56.654862Z",
     "start_time": "2025-10-18T09:05:56.629707Z"
    }
   },
   "cell_type": "code",
   "source": "patient_df.head()",
   "id": "527c7d56625d359",
   "outputs": [
    {
     "data": {
      "text/plain": [
       "                        company  \\\n",
       "0                      小林農林合同会社   \n",
       "1  Gray, Cunningham and Morales   \n",
       "2                        Walter   \n",
       "3                      有限会社遠藤銀行   \n",
       "4                 Munari s.r.l.   \n",
       "\n",
       "                                   current_location               ssn  \\\n",
       "0       (Decimal('32.168477'), Decimal('9.804478'))       302-73-9054   \n",
       "1      (Decimal('-80.289857'), Decimal('2.308813'))       499-92-6793   \n",
       "2    (Decimal('63.5169555'), Decimal('-48.876252'))       925-81-9055   \n",
       "3    (Decimal('-71.015803'), Decimal('140.978474'))       175-19-6965   \n",
       "4  (Decimal('-58.1525245'), Decimal('-120.099037'))  FRSMRL26C50L167Z   \n",
       "\n",
       "                name                  mail  user_id  residence  \\\n",
       "0              清水 英樹    takuma47@gmail.com     1770        NaN   \n",
       "1  Nicholas Campbell    curtis06@yahoo.com      946        NaN   \n",
       "2        Raissa Rose  junkgisbert@yahoo.de     2010        NaN   \n",
       "3              後藤 知実  morimomoko@gmail.com     1100        NaN   \n",
       "4  Eraldo Anguillara   bpergolesi@poste.it     1247        NaN   \n",
       "\n",
       "              username   birthdate  \\\n",
       "0            snakajima  1937-03-07   \n",
       "1           benjamin02  1993-05-15   \n",
       "2             jkoehler         NaN   \n",
       "3        yamaguchikana  2000-08-20   \n",
       "4  guglielmomicheletti         NaN   \n",
       "\n",
       "                                      address          registration  \\\n",
       "0                           岩手県多摩市二つ室27丁目2番7号            2020-08-15   \n",
       "1  0515 Angela Run\\nPort Thomasberg, GU 35535            2018-11-30   \n",
       "2     Louise-Stey-Platz 79\\n88420 Bremervörde  05/09/2025, 00:00:00   \n",
       "3             岡山県横浜市青葉区西小来川26丁目5番4号 南郷屋コーポ985  10/21/2022, 00:00:00   \n",
       "4                                         NaN            2024-11-26   \n",
       "\n",
       "  blood_group  station_ID  \n",
       "0          B-         464  \n",
       "1          A-         109  \n",
       "2          O-         462  \n",
       "3          B-         191  \n",
       "4          B+         588  "
      ],
      "text/html": [
       "<div>\n",
       "<style scoped>\n",
       "    .dataframe tbody tr th:only-of-type {\n",
       "        vertical-align: middle;\n",
       "    }\n",
       "\n",
       "    .dataframe tbody tr th {\n",
       "        vertical-align: top;\n",
       "    }\n",
       "\n",
       "    .dataframe thead th {\n",
       "        text-align: right;\n",
       "    }\n",
       "</style>\n",
       "<table border=\"1\" class=\"dataframe\">\n",
       "  <thead>\n",
       "    <tr style=\"text-align: right;\">\n",
       "      <th></th>\n",
       "      <th>company</th>\n",
       "      <th>current_location</th>\n",
       "      <th>ssn</th>\n",
       "      <th>name</th>\n",
       "      <th>mail</th>\n",
       "      <th>user_id</th>\n",
       "      <th>residence</th>\n",
       "      <th>username</th>\n",
       "      <th>birthdate</th>\n",
       "      <th>address</th>\n",
       "      <th>registration</th>\n",
       "      <th>blood_group</th>\n",
       "      <th>station_ID</th>\n",
       "    </tr>\n",
       "  </thead>\n",
       "  <tbody>\n",
       "    <tr>\n",
       "      <th>0</th>\n",
       "      <td>小林農林合同会社</td>\n",
       "      <td>(Decimal('32.168477'), Decimal('9.804478'))</td>\n",
       "      <td>302-73-9054</td>\n",
       "      <td>清水 英樹</td>\n",
       "      <td>takuma47@gmail.com</td>\n",
       "      <td>1770</td>\n",
       "      <td>NaN</td>\n",
       "      <td>snakajima</td>\n",
       "      <td>1937-03-07</td>\n",
       "      <td>岩手県多摩市二つ室27丁目2番7号</td>\n",
       "      <td>2020-08-15</td>\n",
       "      <td>B-</td>\n",
       "      <td>464</td>\n",
       "    </tr>\n",
       "    <tr>\n",
       "      <th>1</th>\n",
       "      <td>Gray, Cunningham and Morales</td>\n",
       "      <td>(Decimal('-80.289857'), Decimal('2.308813'))</td>\n",
       "      <td>499-92-6793</td>\n",
       "      <td>Nicholas Campbell</td>\n",
       "      <td>curtis06@yahoo.com</td>\n",
       "      <td>946</td>\n",
       "      <td>NaN</td>\n",
       "      <td>benjamin02</td>\n",
       "      <td>1993-05-15</td>\n",
       "      <td>0515 Angela Run\\nPort Thomasberg, GU 35535</td>\n",
       "      <td>2018-11-30</td>\n",
       "      <td>A-</td>\n",
       "      <td>109</td>\n",
       "    </tr>\n",
       "    <tr>\n",
       "      <th>2</th>\n",
       "      <td>Walter</td>\n",
       "      <td>(Decimal('63.5169555'), Decimal('-48.876252'))</td>\n",
       "      <td>925-81-9055</td>\n",
       "      <td>Raissa Rose</td>\n",
       "      <td>junkgisbert@yahoo.de</td>\n",
       "      <td>2010</td>\n",
       "      <td>NaN</td>\n",
       "      <td>jkoehler</td>\n",
       "      <td>NaN</td>\n",
       "      <td>Louise-Stey-Platz 79\\n88420 Bremervörde</td>\n",
       "      <td>05/09/2025, 00:00:00</td>\n",
       "      <td>O-</td>\n",
       "      <td>462</td>\n",
       "    </tr>\n",
       "    <tr>\n",
       "      <th>3</th>\n",
       "      <td>有限会社遠藤銀行</td>\n",
       "      <td>(Decimal('-71.015803'), Decimal('140.978474'))</td>\n",
       "      <td>175-19-6965</td>\n",
       "      <td>後藤 知実</td>\n",
       "      <td>morimomoko@gmail.com</td>\n",
       "      <td>1100</td>\n",
       "      <td>NaN</td>\n",
       "      <td>yamaguchikana</td>\n",
       "      <td>2000-08-20</td>\n",
       "      <td>岡山県横浜市青葉区西小来川26丁目5番4号 南郷屋コーポ985</td>\n",
       "      <td>10/21/2022, 00:00:00</td>\n",
       "      <td>B-</td>\n",
       "      <td>191</td>\n",
       "    </tr>\n",
       "    <tr>\n",
       "      <th>4</th>\n",
       "      <td>Munari s.r.l.</td>\n",
       "      <td>(Decimal('-58.1525245'), Decimal('-120.099037'))</td>\n",
       "      <td>FRSMRL26C50L167Z</td>\n",
       "      <td>Eraldo Anguillara</td>\n",
       "      <td>bpergolesi@poste.it</td>\n",
       "      <td>1247</td>\n",
       "      <td>NaN</td>\n",
       "      <td>guglielmomicheletti</td>\n",
       "      <td>NaN</td>\n",
       "      <td>NaN</td>\n",
       "      <td>2024-11-26</td>\n",
       "      <td>B+</td>\n",
       "      <td>588</td>\n",
       "    </tr>\n",
       "  </tbody>\n",
       "</table>\n",
       "</div>"
      ]
     },
     "execution_count": 34,
     "metadata": {},
     "output_type": "execute_result"
    }
   ],
   "execution_count": 34
  },
  {
   "metadata": {
    "ExecuteTime": {
     "end_time": "2025-10-18T09:06:07.645091Z",
     "start_time": "2025-10-18T09:06:07.638168Z"
    }
   },
   "cell_type": "code",
   "source": "patient_df.shape",
   "id": "29f34f222e9058f",
   "outputs": [
    {
     "data": {
      "text/plain": [
       "(2197, 13)"
      ]
     },
     "execution_count": 35,
     "metadata": {},
     "output_type": "execute_result"
    }
   ],
   "execution_count": 35
  },
  {
   "metadata": {
    "ExecuteTime": {
     "end_time": "2025-10-18T09:06:18.930325Z",
     "start_time": "2025-10-18T09:06:18.923013Z"
    }
   },
   "cell_type": "code",
   "source": "patient_df.columns",
   "id": "29046ee55496a090",
   "outputs": [
    {
     "data": {
      "text/plain": [
       "Index(['company', 'current_location', 'ssn', 'name', 'mail', 'user_id',\n",
       "       'residence', 'username', 'birthdate', 'address', 'registration',\n",
       "       'blood_group', 'station_ID'],\n",
       "      dtype='object')"
      ]
     },
     "execution_count": 37,
     "metadata": {},
     "output_type": "execute_result"
    }
   ],
   "execution_count": 37
  },
  {
   "metadata": {
    "ExecuteTime": {
     "end_time": "2025-10-18T09:06:50.647762Z",
     "start_time": "2025-10-18T09:06:50.643032Z"
    }
   },
   "cell_type": "code",
   "source": "patient_df.dtypes",
   "id": "7834c92681ec2e18",
   "outputs": [
    {
     "data": {
      "text/plain": [
       "company              object\n",
       "current_location     object\n",
       "ssn                  object\n",
       "name                 object\n",
       "mail                 object\n",
       "user_id               int64\n",
       "residence           float64\n",
       "username             object\n",
       "birthdate            object\n",
       "address              object\n",
       "registration         object\n",
       "blood_group          object\n",
       "station_ID            int64\n",
       "dtype: object"
      ]
     },
     "execution_count": 40,
     "metadata": {},
     "output_type": "execute_result"
    }
   ],
   "execution_count": 40
  },
  {
   "metadata": {
    "ExecuteTime": {
     "end_time": "2025-10-18T09:07:11.862387Z",
     "start_time": "2025-10-18T09:07:11.855361Z"
    }
   },
   "cell_type": "code",
   "source": [
    "patient_df.isna().sum()\n",
    "#residence is full NaN so it will be dropped, birthdate and address probably too,\n",
    "#current location needs to be processed"
   ],
   "id": "1e8baa5afd3ffce8",
   "outputs": [
    {
     "data": {
      "text/plain": [
       "company                0\n",
       "current_location     110\n",
       "ssn                    0\n",
       "name                   0\n",
       "mail                   0\n",
       "user_id                0\n",
       "residence           2197\n",
       "username               0\n",
       "birthdate            989\n",
       "address              330\n",
       "registration           0\n",
       "blood_group            0\n",
       "station_ID             0\n",
       "dtype: int64"
      ]
     },
     "execution_count": 42,
     "metadata": {},
     "output_type": "execute_result"
    }
   ],
   "execution_count": 42
  },
  {
   "metadata": {
    "ExecuteTime": {
     "end_time": "2025-10-18T09:09:20.744688Z",
     "start_time": "2025-10-18T09:09:20.729038Z"
    }
   },
   "cell_type": "code",
   "source": [
    "patient_df.nunique()\n",
    "#many unique values"
   ],
   "id": "de48561dbd559d56",
   "outputs": [
    {
     "data": {
      "text/plain": [
       "company             1989\n",
       "current_location    2087\n",
       "ssn                 2197\n",
       "name                2131\n",
       "mail                2192\n",
       "user_id             1407\n",
       "residence              0\n",
       "username            2175\n",
       "birthdate           1189\n",
       "address             1867\n",
       "registration        1987\n",
       "blood_group            8\n",
       "station_ID           677\n",
       "dtype: int64"
      ]
     },
     "execution_count": 43,
     "metadata": {},
     "output_type": "execute_result"
    }
   ],
   "execution_count": 43
  },
  {
   "metadata": {
    "ExecuteTime": {
     "end_time": "2025-10-18T09:10:03.781766Z",
     "start_time": "2025-10-18T09:10:03.763625Z"
    }
   },
   "cell_type": "code",
   "source": [
    "patient_df.describe()\n",
    "#also useless"
   ],
   "id": "f5d01cbd1307b1b8",
   "outputs": [
    {
     "data": {
      "text/plain": [
       "           user_id  residence   station_ID\n",
       "count  2197.000000        0.0  2197.000000\n",
       "mean   1105.308603        NaN   348.892126\n",
       "std     644.728055        NaN   205.367454\n",
       "min       0.000000        NaN     0.000000\n",
       "25%     547.000000        NaN   172.000000\n",
       "50%    1118.000000        NaN   340.000000\n",
       "75%    1668.000000        NaN   536.000000\n",
       "max    2196.000000        NaN   702.000000"
      ],
      "text/html": [
       "<div>\n",
       "<style scoped>\n",
       "    .dataframe tbody tr th:only-of-type {\n",
       "        vertical-align: middle;\n",
       "    }\n",
       "\n",
       "    .dataframe tbody tr th {\n",
       "        vertical-align: top;\n",
       "    }\n",
       "\n",
       "    .dataframe thead th {\n",
       "        text-align: right;\n",
       "    }\n",
       "</style>\n",
       "<table border=\"1\" class=\"dataframe\">\n",
       "  <thead>\n",
       "    <tr style=\"text-align: right;\">\n",
       "      <th></th>\n",
       "      <th>user_id</th>\n",
       "      <th>residence</th>\n",
       "      <th>station_ID</th>\n",
       "    </tr>\n",
       "  </thead>\n",
       "  <tbody>\n",
       "    <tr>\n",
       "      <th>count</th>\n",
       "      <td>2197.000000</td>\n",
       "      <td>0.0</td>\n",
       "      <td>2197.000000</td>\n",
       "    </tr>\n",
       "    <tr>\n",
       "      <th>mean</th>\n",
       "      <td>1105.308603</td>\n",
       "      <td>NaN</td>\n",
       "      <td>348.892126</td>\n",
       "    </tr>\n",
       "    <tr>\n",
       "      <th>std</th>\n",
       "      <td>644.728055</td>\n",
       "      <td>NaN</td>\n",
       "      <td>205.367454</td>\n",
       "    </tr>\n",
       "    <tr>\n",
       "      <th>min</th>\n",
       "      <td>0.000000</td>\n",
       "      <td>NaN</td>\n",
       "      <td>0.000000</td>\n",
       "    </tr>\n",
       "    <tr>\n",
       "      <th>25%</th>\n",
       "      <td>547.000000</td>\n",
       "      <td>NaN</td>\n",
       "      <td>172.000000</td>\n",
       "    </tr>\n",
       "    <tr>\n",
       "      <th>50%</th>\n",
       "      <td>1118.000000</td>\n",
       "      <td>NaN</td>\n",
       "      <td>340.000000</td>\n",
       "    </tr>\n",
       "    <tr>\n",
       "      <th>75%</th>\n",
       "      <td>1668.000000</td>\n",
       "      <td>NaN</td>\n",
       "      <td>536.000000</td>\n",
       "    </tr>\n",
       "    <tr>\n",
       "      <th>max</th>\n",
       "      <td>2196.000000</td>\n",
       "      <td>NaN</td>\n",
       "      <td>702.000000</td>\n",
       "    </tr>\n",
       "  </tbody>\n",
       "</table>\n",
       "</div>"
      ]
     },
     "execution_count": 44,
     "metadata": {},
     "output_type": "execute_result"
    }
   ],
   "execution_count": 44
  },
  {
   "metadata": {},
   "cell_type": "markdown",
   "source": "observation df",
   "id": "2f288e7ef426640a"
  },
  {
   "metadata": {
    "ExecuteTime": {
     "end_time": "2025-10-18T09:12:56.496921Z",
     "start_time": "2025-10-18T09:12:56.462451Z"
    }
   },
   "cell_type": "code",
   "source": "observation_df.head()\n",
   "id": "76993d7eb484fe13",
   "outputs": [
    {
     "data": {
      "text/plain": [
       "        SpO₂         HR         PI         RR      EtCO₂       FiO₂  \\\n",
       "0  97.538229  87.194745  11.225419  14.812012  42.113735  33.852538   \n",
       "1  97.933271  80.787303  11.730935  14.964972  39.537692  65.326035   \n",
       "2  98.209983  79.733895  12.839449  14.840668  39.758706  53.925230   \n",
       "3  98.202790  86.156903  11.204152  14.523288  43.448577  35.227704   \n",
       "4  97.951933  78.966258  13.691758  14.992054  39.722280  35.005559   \n",
       "\n",
       "          PRV          BP  Skin Temperature  Motion/Activity index  ...  \\\n",
       "0  144.504405  100.455727         35.961920              10.302567  ...   \n",
       "1  110.615787  102.133386         36.274352               8.975704  ...   \n",
       "2  107.208040  104.036654         35.583851               7.653790  ...   \n",
       "3  143.282224  105.723603         36.463180               8.795732  ...   \n",
       "4  118.524021   98.996494         35.080937               8.388887  ...   \n",
       "\n",
       "         CO  Blood Flow Index  PPG waveform features  Signal Quality Index  \\\n",
       "0  4.022852         58.317397              49.143701             42.399816   \n",
       "1  4.002043         70.127865              15.557799             46.078137   \n",
       "2  4.001451         76.139163              53.879956             41.525607   \n",
       "3  4.015162         49.461570              58.701159             36.535021   \n",
       "4  4.001110         47.065823              52.338305             29.506008   \n",
       "\n",
       "   Respiratory effort  O₂ extraction ratio        SNR  oximetry   latitude  \\\n",
       "0           46.497869             0.289012  39.334620       1.0  49.183239   \n",
       "1           53.351208             0.290879  26.006709       0.0  33.544280   \n",
       "2           52.124182             0.263171  31.890829       1.0 -27.505780   \n",
       "3           50.342830             0.256780  30.721375       1.0  37.656390   \n",
       "4           39.480811             0.276094  38.214856       0.0  51.202190   \n",
       "\n",
       "    longitude  \n",
       "0   15.454273  \n",
       "1  -84.233810  \n",
       "2  153.102360  \n",
       "3  126.835000  \n",
       "4    7.360270  \n",
       "\n",
       "[5 rows x 23 columns]"
      ],
      "text/html": [
       "<div>\n",
       "<style scoped>\n",
       "    .dataframe tbody tr th:only-of-type {\n",
       "        vertical-align: middle;\n",
       "    }\n",
       "\n",
       "    .dataframe tbody tr th {\n",
       "        vertical-align: top;\n",
       "    }\n",
       "\n",
       "    .dataframe thead th {\n",
       "        text-align: right;\n",
       "    }\n",
       "</style>\n",
       "<table border=\"1\" class=\"dataframe\">\n",
       "  <thead>\n",
       "    <tr style=\"text-align: right;\">\n",
       "      <th></th>\n",
       "      <th>SpO₂</th>\n",
       "      <th>HR</th>\n",
       "      <th>PI</th>\n",
       "      <th>RR</th>\n",
       "      <th>EtCO₂</th>\n",
       "      <th>FiO₂</th>\n",
       "      <th>PRV</th>\n",
       "      <th>BP</th>\n",
       "      <th>Skin Temperature</th>\n",
       "      <th>Motion/Activity index</th>\n",
       "      <th>...</th>\n",
       "      <th>CO</th>\n",
       "      <th>Blood Flow Index</th>\n",
       "      <th>PPG waveform features</th>\n",
       "      <th>Signal Quality Index</th>\n",
       "      <th>Respiratory effort</th>\n",
       "      <th>O₂ extraction ratio</th>\n",
       "      <th>SNR</th>\n",
       "      <th>oximetry</th>\n",
       "      <th>latitude</th>\n",
       "      <th>longitude</th>\n",
       "    </tr>\n",
       "  </thead>\n",
       "  <tbody>\n",
       "    <tr>\n",
       "      <th>0</th>\n",
       "      <td>97.538229</td>\n",
       "      <td>87.194745</td>\n",
       "      <td>11.225419</td>\n",
       "      <td>14.812012</td>\n",
       "      <td>42.113735</td>\n",
       "      <td>33.852538</td>\n",
       "      <td>144.504405</td>\n",
       "      <td>100.455727</td>\n",
       "      <td>35.961920</td>\n",
       "      <td>10.302567</td>\n",
       "      <td>...</td>\n",
       "      <td>4.022852</td>\n",
       "      <td>58.317397</td>\n",
       "      <td>49.143701</td>\n",
       "      <td>42.399816</td>\n",
       "      <td>46.497869</td>\n",
       "      <td>0.289012</td>\n",
       "      <td>39.334620</td>\n",
       "      <td>1.0</td>\n",
       "      <td>49.183239</td>\n",
       "      <td>15.454273</td>\n",
       "    </tr>\n",
       "    <tr>\n",
       "      <th>1</th>\n",
       "      <td>97.933271</td>\n",
       "      <td>80.787303</td>\n",
       "      <td>11.730935</td>\n",
       "      <td>14.964972</td>\n",
       "      <td>39.537692</td>\n",
       "      <td>65.326035</td>\n",
       "      <td>110.615787</td>\n",
       "      <td>102.133386</td>\n",
       "      <td>36.274352</td>\n",
       "      <td>8.975704</td>\n",
       "      <td>...</td>\n",
       "      <td>4.002043</td>\n",
       "      <td>70.127865</td>\n",
       "      <td>15.557799</td>\n",
       "      <td>46.078137</td>\n",
       "      <td>53.351208</td>\n",
       "      <td>0.290879</td>\n",
       "      <td>26.006709</td>\n",
       "      <td>0.0</td>\n",
       "      <td>33.544280</td>\n",
       "      <td>-84.233810</td>\n",
       "    </tr>\n",
       "    <tr>\n",
       "      <th>2</th>\n",
       "      <td>98.209983</td>\n",
       "      <td>79.733895</td>\n",
       "      <td>12.839449</td>\n",
       "      <td>14.840668</td>\n",
       "      <td>39.758706</td>\n",
       "      <td>53.925230</td>\n",
       "      <td>107.208040</td>\n",
       "      <td>104.036654</td>\n",
       "      <td>35.583851</td>\n",
       "      <td>7.653790</td>\n",
       "      <td>...</td>\n",
       "      <td>4.001451</td>\n",
       "      <td>76.139163</td>\n",
       "      <td>53.879956</td>\n",
       "      <td>41.525607</td>\n",
       "      <td>52.124182</td>\n",
       "      <td>0.263171</td>\n",
       "      <td>31.890829</td>\n",
       "      <td>1.0</td>\n",
       "      <td>-27.505780</td>\n",
       "      <td>153.102360</td>\n",
       "    </tr>\n",
       "    <tr>\n",
       "      <th>3</th>\n",
       "      <td>98.202790</td>\n",
       "      <td>86.156903</td>\n",
       "      <td>11.204152</td>\n",
       "      <td>14.523288</td>\n",
       "      <td>43.448577</td>\n",
       "      <td>35.227704</td>\n",
       "      <td>143.282224</td>\n",
       "      <td>105.723603</td>\n",
       "      <td>36.463180</td>\n",
       "      <td>8.795732</td>\n",
       "      <td>...</td>\n",
       "      <td>4.015162</td>\n",
       "      <td>49.461570</td>\n",
       "      <td>58.701159</td>\n",
       "      <td>36.535021</td>\n",
       "      <td>50.342830</td>\n",
       "      <td>0.256780</td>\n",
       "      <td>30.721375</td>\n",
       "      <td>1.0</td>\n",
       "      <td>37.656390</td>\n",
       "      <td>126.835000</td>\n",
       "    </tr>\n",
       "    <tr>\n",
       "      <th>4</th>\n",
       "      <td>97.951933</td>\n",
       "      <td>78.966258</td>\n",
       "      <td>13.691758</td>\n",
       "      <td>14.992054</td>\n",
       "      <td>39.722280</td>\n",
       "      <td>35.005559</td>\n",
       "      <td>118.524021</td>\n",
       "      <td>98.996494</td>\n",
       "      <td>35.080937</td>\n",
       "      <td>8.388887</td>\n",
       "      <td>...</td>\n",
       "      <td>4.001110</td>\n",
       "      <td>47.065823</td>\n",
       "      <td>52.338305</td>\n",
       "      <td>29.506008</td>\n",
       "      <td>39.480811</td>\n",
       "      <td>0.276094</td>\n",
       "      <td>38.214856</td>\n",
       "      <td>0.0</td>\n",
       "      <td>51.202190</td>\n",
       "      <td>7.360270</td>\n",
       "    </tr>\n",
       "  </tbody>\n",
       "</table>\n",
       "<p>5 rows × 23 columns</p>\n",
       "</div>"
      ]
     },
     "execution_count": 45,
     "metadata": {},
     "output_type": "execute_result"
    }
   ],
   "execution_count": 45
  },
  {
   "metadata": {
    "ExecuteTime": {
     "end_time": "2025-10-18T09:13:34.026604Z",
     "start_time": "2025-10-18T09:13:34.022025Z"
    }
   },
   "cell_type": "code",
   "source": "observation_df.shape",
   "id": "266b8f9de5ec2aba",
   "outputs": [
    {
     "data": {
      "text/plain": [
       "(12177, 23)"
      ]
     },
     "execution_count": 46,
     "metadata": {},
     "output_type": "execute_result"
    }
   ],
   "execution_count": 46
  },
  {
   "metadata": {
    "ExecuteTime": {
     "end_time": "2025-10-18T09:13:42.260345Z",
     "start_time": "2025-10-18T09:13:42.254244Z"
    }
   },
   "cell_type": "code",
   "source": "observation_df.columns",
   "id": "f173da9a243e069e",
   "outputs": [
    {
     "data": {
      "text/plain": [
       "Index(['SpO₂', 'HR', 'PI', 'RR', 'EtCO₂', 'FiO₂', 'PRV', 'BP',\n",
       "       'Skin Temperature', 'Motion/Activity index', 'PVI', 'Hb level', 'SV',\n",
       "       'CO', 'Blood Flow Index', 'PPG waveform features',\n",
       "       'Signal Quality Index', 'Respiratory effort', 'O₂ extraction ratio',\n",
       "       'SNR', 'oximetry', 'latitude', 'longitude'],\n",
       "      dtype='object')"
      ]
     },
     "execution_count": 47,
     "metadata": {},
     "output_type": "execute_result"
    }
   ],
   "execution_count": 47
  },
  {
   "metadata": {
    "ExecuteTime": {
     "end_time": "2025-10-18T09:13:59.858216Z",
     "start_time": "2025-10-18T09:13:59.845316Z"
    }
   },
   "cell_type": "code",
   "source": "observation_df.dtypes",
   "id": "ec9790c3f9bbde99",
   "outputs": [
    {
     "data": {
      "text/plain": [
       "SpO₂                     float64\n",
       "HR                       float64\n",
       "PI                       float64\n",
       "RR                       float64\n",
       "EtCO₂                    float64\n",
       "FiO₂                     float64\n",
       "PRV                      float64\n",
       "BP                       float64\n",
       "Skin Temperature         float64\n",
       "Motion/Activity index    float64\n",
       "PVI                      float64\n",
       "Hb level                 float64\n",
       "SV                       float64\n",
       "CO                       float64\n",
       "Blood Flow Index         float64\n",
       "PPG waveform features    float64\n",
       "Signal Quality Index     float64\n",
       "Respiratory effort       float64\n",
       "O₂ extraction ratio      float64\n",
       "SNR                      float64\n",
       "oximetry                 float64\n",
       "latitude                 float64\n",
       "longitude                float64\n",
       "dtype: object"
      ]
     },
     "execution_count": 48,
     "metadata": {},
     "output_type": "execute_result"
    }
   ],
   "execution_count": 48
  },
  {
   "metadata": {
    "ExecuteTime": {
     "end_time": "2025-10-18T09:14:05.612873Z",
     "start_time": "2025-10-18T09:14:05.607868Z"
    }
   },
   "cell_type": "code",
   "source": [
    "observation_df.isna().sum()\n",
    "#great"
   ],
   "id": "6d3a9f4e02f12cac",
   "outputs": [
    {
     "data": {
      "text/plain": [
       "SpO₂                     0\n",
       "HR                       0\n",
       "PI                       0\n",
       "RR                       0\n",
       "EtCO₂                    0\n",
       "FiO₂                     0\n",
       "PRV                      0\n",
       "BP                       0\n",
       "Skin Temperature         0\n",
       "Motion/Activity index    0\n",
       "PVI                      0\n",
       "Hb level                 0\n",
       "SV                       0\n",
       "CO                       0\n",
       "Blood Flow Index         0\n",
       "PPG waveform features    0\n",
       "Signal Quality Index     0\n",
       "Respiratory effort       0\n",
       "O₂ extraction ratio      0\n",
       "SNR                      0\n",
       "oximetry                 0\n",
       "latitude                 0\n",
       "longitude                0\n",
       "dtype: int64"
      ]
     },
     "execution_count": 49,
     "metadata": {},
     "output_type": "execute_result"
    }
   ],
   "execution_count": 49
  },
  {
   "metadata": {
    "ExecuteTime": {
     "end_time": "2025-10-18T09:14:27.780472Z",
     "start_time": "2025-10-18T09:14:27.759803Z"
    }
   },
   "cell_type": "code",
   "source": [
    "observation_df.nunique()\n",
    "#makes sense, only oximetry, latitude and longitude are not completely unique"
   ],
   "id": "86efc0cfeca2e304",
   "outputs": [
    {
     "data": {
      "text/plain": [
       "SpO₂                     11997\n",
       "HR                       11997\n",
       "PI                       11997\n",
       "RR                       11997\n",
       "EtCO₂                    11997\n",
       "FiO₂                     11997\n",
       "PRV                      11997\n",
       "BP                       11997\n",
       "Skin Temperature         11997\n",
       "Motion/Activity index    11997\n",
       "PVI                      11997\n",
       "Hb level                 11997\n",
       "SV                       11997\n",
       "CO                       11997\n",
       "Blood Flow Index         11997\n",
       "PPG waveform features    11997\n",
       "Signal Quality Index     11997\n",
       "Respiratory effort       11997\n",
       "O₂ extraction ratio      11997\n",
       "SNR                      11997\n",
       "oximetry                     2\n",
       "latitude                   498\n",
       "longitude                  497\n",
       "dtype: int64"
      ]
     },
     "execution_count": 50,
     "metadata": {},
     "output_type": "execute_result"
    }
   ],
   "execution_count": 50
  },
  {
   "metadata": {
    "ExecuteTime": {
     "end_time": "2025-10-18T09:15:27.785729Z",
     "start_time": "2025-10-18T09:15:27.752572Z"
    }
   },
   "cell_type": "code",
   "source": "observation_df.describe()",
   "id": "5af46ce196643158",
   "outputs": [
    {
     "data": {
      "text/plain": [
       "               SpO₂            HR            PI            RR         EtCO₂  \\\n",
       "count  12177.000000  12177.000000  12177.000000  12177.000000  12177.000000   \n",
       "mean      97.336001     83.397242     10.360642     16.158948     40.235152   \n",
       "std        0.657577      7.609815      2.417855      1.398210      1.715679   \n",
       "min       95.000000     60.000000      0.200000     12.000000     35.000000   \n",
       "25%       96.895657     77.573676      8.800161     15.044708     38.749846   \n",
       "50%       97.332851     84.323757     10.365288     15.979021     40.531056   \n",
       "75%       97.776356     89.763115     11.893853     17.393451     41.590048   \n",
       "max      100.000000    100.000000     20.000000     20.000000     45.000000   \n",
       "\n",
       "               FiO₂           PRV            BP  Skin Temperature  \\\n",
       "count  12177.000000  12177.000000  12177.000000      12177.000000   \n",
       "mean      58.821759    117.675964    104.591413         35.426048   \n",
       "std       12.119443     21.841513      4.088282          0.619283   \n",
       "min       21.000000     20.000000     90.000000         33.000000   \n",
       "25%       49.328258    103.101631    101.857377         35.007462   \n",
       "50%       59.402365    117.695370    104.604980         35.424762   \n",
       "75%       68.437184    132.088845    107.321633         35.845164   \n",
       "max      100.000000    200.000000    120.000000         38.000000   \n",
       "\n",
       "       Motion/Activity index  ...            CO  Blood Flow Index  \\\n",
       "count           12177.000000  ...  12177.000000      12177.000000   \n",
       "mean                9.436818  ...      4.078126         52.640590   \n",
       "std                 0.998907  ...      0.222547         13.127091   \n",
       "min                 5.652322  ...      4.000000          0.000000   \n",
       "25%                 8.766904  ...      4.000762         43.996467   \n",
       "50%                 9.432476  ...      4.007395         52.709829   \n",
       "75%                10.105665  ...      4.064212         61.440013   \n",
       "max                13.997052  ...      8.000000        100.000000   \n",
       "\n",
       "       PPG waveform features  Signal Quality Index  Respiratory effort  \\\n",
       "count           12177.000000          12177.000000        12177.000000   \n",
       "mean               46.734247             47.572094           49.788653   \n",
       "std                13.374194             13.487056           13.006681   \n",
       "min                 0.000000              0.000000            0.000000   \n",
       "25%                37.650597             38.396055           40.992562   \n",
       "50%                46.733166             47.810036           49.742898   \n",
       "75%                55.671672             56.736043           58.630016   \n",
       "max               100.000000            100.000000          100.000000   \n",
       "\n",
       "       O₂ extraction ratio           SNR      oximetry      latitude  \\\n",
       "count         12177.000000  12177.000000  12177.000000  12177.000000   \n",
       "mean              0.249557     29.994576      0.597602     28.701943   \n",
       "std               0.028947      5.765251      0.490401     24.402668   \n",
       "min               0.200000     20.000000      0.000000    -44.396720   \n",
       "25%               0.224466     24.978691      0.000000     14.082300   \n",
       "50%               0.249072     30.094799      1.000000     36.650000   \n",
       "75%               0.274733     34.961220      1.000000     47.484440   \n",
       "max               0.300000     40.000000      1.000000     65.848110   \n",
       "\n",
       "          longitude  \n",
       "count  12177.000000  \n",
       "mean      17.028640  \n",
       "std       70.059129  \n",
       "min     -156.474320  \n",
       "25%      -13.235600  \n",
       "50%       13.321270  \n",
       "75%       71.577370  \n",
       "max      171.253640  \n",
       "\n",
       "[8 rows x 23 columns]"
      ],
      "text/html": [
       "<div>\n",
       "<style scoped>\n",
       "    .dataframe tbody tr th:only-of-type {\n",
       "        vertical-align: middle;\n",
       "    }\n",
       "\n",
       "    .dataframe tbody tr th {\n",
       "        vertical-align: top;\n",
       "    }\n",
       "\n",
       "    .dataframe thead th {\n",
       "        text-align: right;\n",
       "    }\n",
       "</style>\n",
       "<table border=\"1\" class=\"dataframe\">\n",
       "  <thead>\n",
       "    <tr style=\"text-align: right;\">\n",
       "      <th></th>\n",
       "      <th>SpO₂</th>\n",
       "      <th>HR</th>\n",
       "      <th>PI</th>\n",
       "      <th>RR</th>\n",
       "      <th>EtCO₂</th>\n",
       "      <th>FiO₂</th>\n",
       "      <th>PRV</th>\n",
       "      <th>BP</th>\n",
       "      <th>Skin Temperature</th>\n",
       "      <th>Motion/Activity index</th>\n",
       "      <th>...</th>\n",
       "      <th>CO</th>\n",
       "      <th>Blood Flow Index</th>\n",
       "      <th>PPG waveform features</th>\n",
       "      <th>Signal Quality Index</th>\n",
       "      <th>Respiratory effort</th>\n",
       "      <th>O₂ extraction ratio</th>\n",
       "      <th>SNR</th>\n",
       "      <th>oximetry</th>\n",
       "      <th>latitude</th>\n",
       "      <th>longitude</th>\n",
       "    </tr>\n",
       "  </thead>\n",
       "  <tbody>\n",
       "    <tr>\n",
       "      <th>count</th>\n",
       "      <td>12177.000000</td>\n",
       "      <td>12177.000000</td>\n",
       "      <td>12177.000000</td>\n",
       "      <td>12177.000000</td>\n",
       "      <td>12177.000000</td>\n",
       "      <td>12177.000000</td>\n",
       "      <td>12177.000000</td>\n",
       "      <td>12177.000000</td>\n",
       "      <td>12177.000000</td>\n",
       "      <td>12177.000000</td>\n",
       "      <td>...</td>\n",
       "      <td>12177.000000</td>\n",
       "      <td>12177.000000</td>\n",
       "      <td>12177.000000</td>\n",
       "      <td>12177.000000</td>\n",
       "      <td>12177.000000</td>\n",
       "      <td>12177.000000</td>\n",
       "      <td>12177.000000</td>\n",
       "      <td>12177.000000</td>\n",
       "      <td>12177.000000</td>\n",
       "      <td>12177.000000</td>\n",
       "    </tr>\n",
       "    <tr>\n",
       "      <th>mean</th>\n",
       "      <td>97.336001</td>\n",
       "      <td>83.397242</td>\n",
       "      <td>10.360642</td>\n",
       "      <td>16.158948</td>\n",
       "      <td>40.235152</td>\n",
       "      <td>58.821759</td>\n",
       "      <td>117.675964</td>\n",
       "      <td>104.591413</td>\n",
       "      <td>35.426048</td>\n",
       "      <td>9.436818</td>\n",
       "      <td>...</td>\n",
       "      <td>4.078126</td>\n",
       "      <td>52.640590</td>\n",
       "      <td>46.734247</td>\n",
       "      <td>47.572094</td>\n",
       "      <td>49.788653</td>\n",
       "      <td>0.249557</td>\n",
       "      <td>29.994576</td>\n",
       "      <td>0.597602</td>\n",
       "      <td>28.701943</td>\n",
       "      <td>17.028640</td>\n",
       "    </tr>\n",
       "    <tr>\n",
       "      <th>std</th>\n",
       "      <td>0.657577</td>\n",
       "      <td>7.609815</td>\n",
       "      <td>2.417855</td>\n",
       "      <td>1.398210</td>\n",
       "      <td>1.715679</td>\n",
       "      <td>12.119443</td>\n",
       "      <td>21.841513</td>\n",
       "      <td>4.088282</td>\n",
       "      <td>0.619283</td>\n",
       "      <td>0.998907</td>\n",
       "      <td>...</td>\n",
       "      <td>0.222547</td>\n",
       "      <td>13.127091</td>\n",
       "      <td>13.374194</td>\n",
       "      <td>13.487056</td>\n",
       "      <td>13.006681</td>\n",
       "      <td>0.028947</td>\n",
       "      <td>5.765251</td>\n",
       "      <td>0.490401</td>\n",
       "      <td>24.402668</td>\n",
       "      <td>70.059129</td>\n",
       "    </tr>\n",
       "    <tr>\n",
       "      <th>min</th>\n",
       "      <td>95.000000</td>\n",
       "      <td>60.000000</td>\n",
       "      <td>0.200000</td>\n",
       "      <td>12.000000</td>\n",
       "      <td>35.000000</td>\n",
       "      <td>21.000000</td>\n",
       "      <td>20.000000</td>\n",
       "      <td>90.000000</td>\n",
       "      <td>33.000000</td>\n",
       "      <td>5.652322</td>\n",
       "      <td>...</td>\n",
       "      <td>4.000000</td>\n",
       "      <td>0.000000</td>\n",
       "      <td>0.000000</td>\n",
       "      <td>0.000000</td>\n",
       "      <td>0.000000</td>\n",
       "      <td>0.200000</td>\n",
       "      <td>20.000000</td>\n",
       "      <td>0.000000</td>\n",
       "      <td>-44.396720</td>\n",
       "      <td>-156.474320</td>\n",
       "    </tr>\n",
       "    <tr>\n",
       "      <th>25%</th>\n",
       "      <td>96.895657</td>\n",
       "      <td>77.573676</td>\n",
       "      <td>8.800161</td>\n",
       "      <td>15.044708</td>\n",
       "      <td>38.749846</td>\n",
       "      <td>49.328258</td>\n",
       "      <td>103.101631</td>\n",
       "      <td>101.857377</td>\n",
       "      <td>35.007462</td>\n",
       "      <td>8.766904</td>\n",
       "      <td>...</td>\n",
       "      <td>4.000762</td>\n",
       "      <td>43.996467</td>\n",
       "      <td>37.650597</td>\n",
       "      <td>38.396055</td>\n",
       "      <td>40.992562</td>\n",
       "      <td>0.224466</td>\n",
       "      <td>24.978691</td>\n",
       "      <td>0.000000</td>\n",
       "      <td>14.082300</td>\n",
       "      <td>-13.235600</td>\n",
       "    </tr>\n",
       "    <tr>\n",
       "      <th>50%</th>\n",
       "      <td>97.332851</td>\n",
       "      <td>84.323757</td>\n",
       "      <td>10.365288</td>\n",
       "      <td>15.979021</td>\n",
       "      <td>40.531056</td>\n",
       "      <td>59.402365</td>\n",
       "      <td>117.695370</td>\n",
       "      <td>104.604980</td>\n",
       "      <td>35.424762</td>\n",
       "      <td>9.432476</td>\n",
       "      <td>...</td>\n",
       "      <td>4.007395</td>\n",
       "      <td>52.709829</td>\n",
       "      <td>46.733166</td>\n",
       "      <td>47.810036</td>\n",
       "      <td>49.742898</td>\n",
       "      <td>0.249072</td>\n",
       "      <td>30.094799</td>\n",
       "      <td>1.000000</td>\n",
       "      <td>36.650000</td>\n",
       "      <td>13.321270</td>\n",
       "    </tr>\n",
       "    <tr>\n",
       "      <th>75%</th>\n",
       "      <td>97.776356</td>\n",
       "      <td>89.763115</td>\n",
       "      <td>11.893853</td>\n",
       "      <td>17.393451</td>\n",
       "      <td>41.590048</td>\n",
       "      <td>68.437184</td>\n",
       "      <td>132.088845</td>\n",
       "      <td>107.321633</td>\n",
       "      <td>35.845164</td>\n",
       "      <td>10.105665</td>\n",
       "      <td>...</td>\n",
       "      <td>4.064212</td>\n",
       "      <td>61.440013</td>\n",
       "      <td>55.671672</td>\n",
       "      <td>56.736043</td>\n",
       "      <td>58.630016</td>\n",
       "      <td>0.274733</td>\n",
       "      <td>34.961220</td>\n",
       "      <td>1.000000</td>\n",
       "      <td>47.484440</td>\n",
       "      <td>71.577370</td>\n",
       "    </tr>\n",
       "    <tr>\n",
       "      <th>max</th>\n",
       "      <td>100.000000</td>\n",
       "      <td>100.000000</td>\n",
       "      <td>20.000000</td>\n",
       "      <td>20.000000</td>\n",
       "      <td>45.000000</td>\n",
       "      <td>100.000000</td>\n",
       "      <td>200.000000</td>\n",
       "      <td>120.000000</td>\n",
       "      <td>38.000000</td>\n",
       "      <td>13.997052</td>\n",
       "      <td>...</td>\n",
       "      <td>8.000000</td>\n",
       "      <td>100.000000</td>\n",
       "      <td>100.000000</td>\n",
       "      <td>100.000000</td>\n",
       "      <td>100.000000</td>\n",
       "      <td>0.300000</td>\n",
       "      <td>40.000000</td>\n",
       "      <td>1.000000</td>\n",
       "      <td>65.848110</td>\n",
       "      <td>171.253640</td>\n",
       "    </tr>\n",
       "  </tbody>\n",
       "</table>\n",
       "<p>8 rows × 23 columns</p>\n",
       "</div>"
      ]
     },
     "execution_count": 51,
     "metadata": {},
     "output_type": "execute_result"
    }
   ],
   "execution_count": 51
  },
  {
   "metadata": {},
   "cell_type": "markdown",
   "source": "## B) Analýza jednotlivých atribútov",
   "id": "c8e35f0fb840e56d"
  },
  {
   "metadata": {
    "ExecuteTime": {
     "end_time": "2025-10-18T09:48:04.343473Z",
     "start_time": "2025-10-18T09:48:04.331141Z"
    }
   },
   "cell_type": "code",
   "source": [
    "#Qos(station_df)\n",
    "station_df['QoS'].unique().tolist()"
   ],
   "id": "ceccd1abaebae602",
   "outputs": [
    {
     "data": {
      "text/plain": [
       "['good', 'excellent', 'maintenance', 'acceptable']"
      ]
     },
     "execution_count": 56,
     "metadata": {},
     "output_type": "execute_result"
    }
   ],
   "execution_count": 56
  },
  {
   "metadata": {
    "ExecuteTime": {
     "end_time": "2025-10-18T09:49:15.392639Z",
     "start_time": "2025-10-18T09:49:15.166043Z"
    }
   },
   "cell_type": "code",
   "source": "sns.histplot(station_df['QoS'])",
   "id": "7a5207c03d770441",
   "outputs": [
    {
     "data": {
      "text/plain": [
       "<Axes: xlabel='QoS', ylabel='Count'>"
      ]
     },
     "execution_count": 57,
     "metadata": {},
     "output_type": "execute_result"
    },
    {
     "data": {
      "text/plain": [
       "<Figure size 640x480 with 1 Axes>"
      ],
      "image/png": "[encoded data removed]"
     },
     "metadata": {},
     "output_type": "display_data"
    }
   ],
   "execution_count": 57
  },
  {
   "metadata": {
    "ExecuteTime": {
     "end_time": "2025-10-18T09:49:46.880150Z",
     "start_time": "2025-10-18T09:49:46.862819Z"
    }
   },
   "cell_type": "code",
   "source": [
    "#for exact nums\n",
    "station_df['QoS'].value_counts()"
   ],
   "id": "861c5cd1a81143e",
   "outputs": [
    {
     "data": {
      "text/plain": [
       "QoS\n",
       "good           350\n",
       "excellent      217\n",
       "acceptable     112\n",
       "maintenance     24\n",
       "Name: count, dtype: int64"
      ]
     },
     "execution_count": 58,
     "metadata": {},
     "output_type": "execute_result"
    }
   ],
   "execution_count": 58
  },
  {
   "metadata": {
    "ExecuteTime": {
     "end_time": "2025-10-18T09:51:59.718769Z",
     "start_time": "2025-10-18T09:51:59.700273Z"
    }
   },
   "cell_type": "code",
   "source": "station_df['QoS'].isna().sum()",
   "id": "96ac8b71747ce36f",
   "outputs": [
    {
     "data": {
      "text/plain": [
       "np.int64(0)"
      ]
     },
     "execution_count": 59,
     "metadata": {},
     "output_type": "execute_result"
    }
   ],
   "execution_count": 59
  },
  {
   "metadata": {
    "ExecuteTime": {
     "end_time": "2025-10-18T09:58:07.379956Z",
     "start_time": "2025-10-18T09:58:07.368994Z"
    }
   },
   "cell_type": "code",
   "source": [
    "#latitude (from both station_df and observation_df)\n",
    "print (station_df['latitude'].min(), observation_df['latitude'].min())\n",
    "print (station_df['latitude'].max(), observation_df['latitude'].max())\n",
    "#the min and the max are both realistic values, from -180 to 180\n",
    "\n",
    "set(station_df['latitude']) == set(observation_df['latitude'])\n",
    "#every station is included in observation by latitude"
   ],
   "id": "230b90a8e2685659",
   "outputs": [
    {
     "name": "stdout",
     "output_type": "stream",
     "text": [
      "-44.39672 -44.39672\n",
      "65.84811 65.84811\n"
     ]
    },
    {
     "data": {
      "text/plain": [
       "True"
      ]
     },
     "execution_count": 64,
     "metadata": {},
     "output_type": "execute_result"
    }
   ],
   "execution_count": 64
  },
  {
   "metadata": {
    "ExecuteTime": {
     "end_time": "2025-10-18T09:58:54.205392Z",
     "start_time": "2025-10-18T09:58:54.195100Z"
    }
   },
   "cell_type": "code",
   "source": [
    "#longitude (from both station_df and observation_df)\n",
    "print (station_df['longitude'].min(), observation_df['longitude'].min())\n",
    "print (station_df['longitude'].max(), observation_df['longitude'].max())\n",
    "#the min and the max are both realistic values, from -180 to 180\n",
    "\n",
    "set(station_df['longitude']) == set(observation_df['longitude'])\n",
    "#every station is included by longitude also\n",
    "\n",
    "#this could be checked with patient -> current location but that needs preprocessing in further steps"
   ],
   "id": "f0f90f55a80ff122",
   "outputs": [
    {
     "name": "stdout",
     "output_type": "stream",
     "text": [
      "-156.47432 -156.47432\n",
      "171.25364 171.25364\n"
     ]
    },
    {
     "data": {
      "text/plain": [
       "True"
      ]
     },
     "execution_count": 65,
     "metadata": {},
     "output_type": "execute_result"
    }
   ],
   "execution_count": 65
  },
  {
   "metadata": {
    "ExecuteTime": {
     "end_time": "2025-10-18T10:00:47.852441Z",
     "start_time": "2025-10-18T10:00:47.837786Z"
    }
   },
   "cell_type": "code",
   "source": [
    "#Code (station_df)\n",
    "station_df['code'].value_counts()"
   ],
   "id": "4a00c77dc7d7b483",
   "outputs": [
    {
     "data": {
      "text/plain": [
       "code\n",
       "US    94\n",
       "IN    51\n",
       "RU    50\n",
       "DE    41\n",
       "BR    36\n",
       "      ..\n",
       "HK     1\n",
       "CF     1\n",
       "CH     1\n",
       "KZ     1\n",
       "AT     1\n",
       "Name: count, Length: 98, dtype: int64"
      ]
     },
     "execution_count": 67,
     "metadata": {},
     "output_type": "execute_result"
    }
   ],
   "execution_count": 67
  },
  {
   "metadata": {
    "ExecuteTime": {
     "end_time": "2025-10-18T10:03:10.379769Z",
     "start_time": "2025-10-18T10:03:10.292341Z"
    }
   },
   "cell_type": "code",
   "source": [
    "#top 5\n",
    "top5 = station_df['code'].value_counts().head(5).reset_index()\n",
    "top5.columns = ['code', 'count']\n",
    "\n",
    "sns.barplot(x='code', y='count', data=top5)"
   ],
   "id": "57ce582b52ea874a",
   "outputs": [
    {
     "data": {
      "text/plain": [
       "<Axes: xlabel='code', ylabel='count'>"
      ]
     },
     "execution_count": 72,
     "metadata": {},
     "output_type": "execute_result"
    },
    {
     "data": {
      "text/plain": [
       "<Figure size 640x480 with 1 Axes>"
      ],
      "image/png": "[encoded data removed]"
     },
     "metadata": {},
     "output_type": "display_data"
    }
   ],
   "execution_count": 72
  },
  {
   "metadata": {
    "ExecuteTime": {
     "end_time": "2025-10-18T10:04:18.881121Z",
     "start_time": "2025-10-18T10:04:18.874423Z"
    }
   },
   "cell_type": "code",
   "source": [
    "#Blood group (patient_df)\n",
    "patient_df['blood_group'].unique().tolist()\n",
    "#All blood groups are represented"
   ],
   "id": "62bea8095c9072d3",
   "outputs": [
    {
     "data": {
      "text/plain": [
       "['B-', 'A-', 'O-', 'B+', 'AB-', 'A+', 'AB+', 'O+']"
      ]
     },
     "execution_count": 74,
     "metadata": {},
     "output_type": "execute_result"
    }
   ],
   "execution_count": 74
  },
  {
   "metadata": {
    "ExecuteTime": {
     "end_time": "2025-10-18T10:04:34.685042Z",
     "start_time": "2025-10-18T10:04:34.588527Z"
    }
   },
   "cell_type": "code",
   "source": [
    "sns.histplot(patient_df['blood_group'])\n",
    "#not that big of a range"
   ],
   "id": "8f42d52820718b5c",
   "outputs": [
    {
     "data": {
      "text/plain": [
       "<Axes: xlabel='blood_group', ylabel='Count'>"
      ]
     },
     "execution_count": 75,
     "metadata": {},
     "output_type": "execute_result"
    },
    {
     "data": {
      "text/plain": [
       "<Figure size 640x480 with 1 Axes>"
      ],
      "image/png": "[encoded data removed]"
     },
     "metadata": {},
     "output_type": "display_data"
    }
   ],
   "execution_count": 75
  },
  {
   "metadata": {
    "ExecuteTime": {
     "end_time": "2025-10-18T10:05:12.794403Z",
     "start_time": "2025-10-18T10:05:12.774316Z"
    }
   },
   "cell_type": "code",
   "source": "patient_df['blood_group'].value_counts()",
   "id": "52a06ae64ebfa0e5",
   "outputs": [
    {
     "data": {
      "text/plain": [
       "blood_group\n",
       "O+     290\n",
       "A+     288\n",
       "B+     275\n",
       "AB+    274\n",
       "A-     270\n",
       "O-     269\n",
       "B-     266\n",
       "AB-    265\n",
       "Name: count, dtype: int64"
      ]
     },
     "execution_count": 77,
     "metadata": {},
     "output_type": "execute_result"
    }
   ],
   "execution_count": 77
  },
  {
   "metadata": {
    "ExecuteTime": {
     "end_time": "2025-10-18T10:05:51.378263Z",
     "start_time": "2025-10-18T10:05:51.364844Z"
    }
   },
   "cell_type": "code",
   "source": [
    "patient_df['blood_group'].isna().sum()\n",
    "#great"
   ],
   "id": "db7dc09772f5a97b",
   "outputs": [
    {
     "data": {
      "text/plain": [
       "np.int64(0)"
      ]
     },
     "execution_count": 78,
     "metadata": {},
     "output_type": "execute_result"
    }
   ],
   "execution_count": 78
  },
  {
   "metadata": {
    "ExecuteTime": {
     "end_time": "2025-10-18T10:10:06.653855Z",
     "start_time": "2025-10-18T10:10:06.457740Z"
    }
   },
   "cell_type": "code",
   "source": [
    "# SpO2\n",
    "sns.boxplot(y = observation_df['SpO₂'])"
   ],
   "id": "21235da06fc545dc",
   "outputs": [
    {
     "data": {
      "text/plain": [
       "<Axes: ylabel='SpO₂'>"
      ]
     },
     "execution_count": 82,
     "metadata": {},
     "output_type": "execute_result"
    },
    {
     "name": "stderr",
     "output_type": "stream",
     "text": [
      "/Users/kazimir/Library/Python/3.9/lib/python/site-packages/IPython/core/events.py:82: UserWarning: Glyph 8322 (\\N{SUBSCRIPT TWO}) missing from font(s) Arial.\n",
      "  func(*args, **kwargs)\n",
      "/Users/kazimir/Library/Python/3.9/lib/python/site-packages/IPython/core/pylabtools.py:152: UserWarning: Glyph 8322 (\\N{SUBSCRIPT TWO}) missing from font(s) Arial.\n",
      "  fig.canvas.print_figure(bytes_io, **kw)\n"
     ]
    },
    {
     "data": {
      "text/plain": [
       "<Figure size 640x480 with 1 Axes>"
      ],
      "image/png": "[encoded data removed]"
     },
     "metadata": {},
     "output_type": "display_data"
    }
   ],
   "execution_count": 82
  },
  {
   "metadata": {
    "ExecuteTime": {
     "end_time": "2025-10-18T10:11:20.742533Z",
     "start_time": "2025-10-18T10:11:20.732435Z"
    }
   },
   "cell_type": "code",
   "source": [
    "#just to have the exact range\n",
    "observation_df['SpO₂'].min(), observation_df['SpO₂'].max()\n",
    "#realistic values"
   ],
   "id": "b61e7505933cc817",
   "outputs": [
    {
     "data": {
      "text/plain": [
       "(np.float64(95.0), np.float64(100.0))"
      ]
     },
     "execution_count": 85,
     "metadata": {},
     "output_type": "execute_result"
    }
   ],
   "execution_count": 85
  },
  {
   "metadata": {
    "ExecuteTime": {
     "end_time": "2025-10-18T10:13:01.960660Z",
     "start_time": "2025-10-18T10:13:01.850462Z"
    }
   },
   "cell_type": "code",
   "source": [
    "sns.histplot(observation_df['SpO₂'])\n",
    "#normal distribution"
   ],
   "id": "e0f00c20f5cad871",
   "outputs": [
    {
     "data": {
      "text/plain": [
       "<Axes: xlabel='SpO₂', ylabel='Count'>"
      ]
     },
     "execution_count": 86,
     "metadata": {},
     "output_type": "execute_result"
    },
    {
     "name": "stderr",
     "output_type": "stream",
     "text": [
      "/Users/kazimir/Library/Python/3.9/lib/python/site-packages/IPython/core/events.py:82: UserWarning: Glyph 8322 (\\N{SUBSCRIPT TWO}) missing from font(s) Arial.\n",
      "  func(*args, **kwargs)\n",
      "/Users/kazimir/Library/Python/3.9/lib/python/site-packages/IPython/core/pylabtools.py:152: UserWarning: Glyph 8322 (\\N{SUBSCRIPT TWO}) missing from font(s) Arial.\n",
      "  fig.canvas.print_figure(bytes_io, **kw)\n"
     ]
    },
    {
     "data": {
      "text/plain": [
       "<Figure size 640x480 with 1 Axes>"
      ],
      "image/png": "[encoded data removed]"
     },
     "metadata": {},
     "output_type": "display_data"
    }
   ],
   "execution_count": 86
  },
  {
   "metadata": {
    "ExecuteTime": {
     "end_time": "2025-10-18T10:28:19.994466Z",
     "start_time": "2025-10-18T10:28:19.848561Z"
    }
   },
   "cell_type": "code",
   "source": [
    "#Hemoglobin (Observation_df)\n",
    "sns.histplot(observation_df['Hb level'])\n",
    "#pretty normal, realistic values"
   ],
   "id": "7bd3d049da590be",
   "outputs": [
    {
     "data": {
      "text/plain": [
       "<Axes: xlabel='Hb level', ylabel='Count'>"
      ]
     },
     "execution_count": 88,
     "metadata": {},
     "output_type": "execute_result"
    },
    {
     "data": {
      "text/plain": [
       "<Figure size 640x480 with 1 Axes>"
      ],
      "image/png": "[encoded data removed]"
     },
     "metadata": {},
     "output_type": "display_data"
    }
   ],
   "execution_count": 88
  },
  {
   "metadata": {
    "ExecuteTime": {
     "end_time": "2025-10-18T10:28:35.463323Z",
     "start_time": "2025-10-18T10:28:35.384553Z"
    }
   },
   "cell_type": "code",
   "source": "sns.boxplot(y = observation_df['Hb level'])",
   "id": "4d5a3d531d92754",
   "outputs": [
    {
     "data": {
      "text/plain": [
       "<Axes: ylabel='Hb level'>"
      ]
     },
     "execution_count": 89,
     "metadata": {},
     "output_type": "execute_result"
    },
    {
     "data": {
      "text/plain": [
       "<Figure size 640x480 with 1 Axes>"
      ],
      "image/png": "[encoded data removed]"
     },
     "metadata": {},
     "output_type": "display_data"
    }
   ],
   "execution_count": 89
  },
  {
   "metadata": {
    "ExecuteTime": {
     "end_time": "2025-10-18T10:29:10.146600Z",
     "start_time": "2025-10-18T10:29:10.141410Z"
    }
   },
   "cell_type": "code",
   "source": [
    "#exact range\n",
    "observation_df['Hb level'].min(), observation_df['Hb level'].max()"
   ],
   "id": "c37e18424792983f",
   "outputs": [
    {
     "data": {
      "text/plain": [
       "(np.float64(12.0), np.float64(18.0))"
      ]
     },
     "execution_count": 91,
     "metadata": {},
     "output_type": "execute_result"
    }
   ],
   "execution_count": 91
  },
  {
   "metadata": {
    "ExecuteTime": {
     "end_time": "2025-10-18T10:30:15.383977Z",
     "start_time": "2025-10-18T10:30:15.266362Z"
    }
   },
   "cell_type": "code",
   "source": [
    "#Fio (Observation_df)\n",
    "sns.histplot(observation_df['FiO₂'])\n",
    "#not that normal, slight skew to the right at the peak\n",
    "#also values are not realistic for common people, probably on oxygen therapy or something"
   ],
   "id": "21d353a6295e777b",
   "outputs": [
    {
     "data": {
      "text/plain": [
       "<Axes: xlabel='FiO₂', ylabel='Count'>"
      ]
     },
     "execution_count": 92,
     "metadata": {},
     "output_type": "execute_result"
    },
    {
     "name": "stderr",
     "output_type": "stream",
     "text": [
      "/Users/kazimir/Library/Python/3.9/lib/python/site-packages/IPython/core/events.py:82: UserWarning: Glyph 8322 (\\N{SUBSCRIPT TWO}) missing from font(s) Arial.\n",
      "  func(*args, **kwargs)\n",
      "/Users/kazimir/Library/Python/3.9/lib/python/site-packages/IPython/core/pylabtools.py:152: UserWarning: Glyph 8322 (\\N{SUBSCRIPT TWO}) missing from font(s) Arial.\n",
      "  fig.canvas.print_figure(bytes_io, **kw)\n"
     ]
    },
    {
     "data": {
      "text/plain": [
       "<Figure size 640x480 with 1 Axes>"
      ],
      "image/png": "[encoded data removed]"
     },
     "metadata": {},
     "output_type": "display_data"
    }
   ],
   "execution_count": 92
  },
  {
   "metadata": {
    "ExecuteTime": {
     "end_time": "2025-10-18T10:31:14.275053Z",
     "start_time": "2025-10-18T10:31:14.172662Z"
    }
   },
   "cell_type": "code",
   "source": "sns.boxplot(observation_df['FiO₂'])",
   "id": "9df15eedfc06bb0f",
   "outputs": [
    {
     "data": {
      "text/plain": [
       "<Axes: ylabel='FiO₂'>"
      ]
     },
     "execution_count": 93,
     "metadata": {},
     "output_type": "execute_result"
    },
    {
     "name": "stderr",
     "output_type": "stream",
     "text": [
      "/Users/kazimir/Library/Python/3.9/lib/python/site-packages/IPython/core/events.py:82: UserWarning: Glyph 8322 (\\N{SUBSCRIPT TWO}) missing from font(s) Arial.\n",
      "  func(*args, **kwargs)\n",
      "/Users/kazimir/Library/Python/3.9/lib/python/site-packages/IPython/core/pylabtools.py:152: UserWarning: Glyph 8322 (\\N{SUBSCRIPT TWO}) missing from font(s) Arial.\n",
      "  fig.canvas.print_figure(bytes_io, **kw)\n"
     ]
    },
    {
     "data": {
      "text/plain": [
       "<Figure size 640x480 with 1 Axes>"
      ],
      "image/png": "[encoded data removed]"
     },
     "metadata": {},
     "output_type": "display_data"
    }
   ],
   "execution_count": 93
  },
  {
   "metadata": {
    "ExecuteTime": {
     "end_time": "2025-10-18T10:32:53.056503Z",
     "start_time": "2025-10-18T10:32:52.929992Z"
    }
   },
   "cell_type": "code",
   "source": [
    "#blood pressure (observation_df)\n",
    "sns.histplot(observation_df['BP'])\n",
    "#normal distribution with usual values"
   ],
   "id": "d15b2d3d94c830d3",
   "outputs": [
    {
     "data": {
      "text/plain": [
       "<Axes: xlabel='BP', ylabel='Count'>"
      ]
     },
     "execution_count": 94,
     "metadata": {},
     "output_type": "execute_result"
    },
    {
     "data": {
      "text/plain": [
       "<Figure size 640x480 with 1 Axes>"
      ],
      "image/png": "[encoded data removed]"
     },
     "metadata": {},
     "output_type": "display_data"
    }
   ],
   "execution_count": 94
  },
  {
   "metadata": {
    "ExecuteTime": {
     "end_time": "2025-10-18T10:33:01.211112Z",
     "start_time": "2025-10-18T10:33:01.138179Z"
    }
   },
   "cell_type": "code",
   "source": "sns.boxplot(y = observation_df['BP'])",
   "id": "61d90139956d7bac",
   "outputs": [
    {
     "data": {
      "text/plain": [
       "<Axes: ylabel='BP'>"
      ]
     },
     "execution_count": 95,
     "metadata": {},
     "output_type": "execute_result"
    },
    {
     "data": {
      "text/plain": [
       "<Figure size 640x480 with 1 Axes>"
      ],
      "image/png": "[encoded data removed]"
     },
     "metadata": {},
     "output_type": "display_data"
    }
   ],
   "execution_count": 95
  },
  {
   "metadata": {
    "ExecuteTime": {
     "end_time": "2025-10-18T10:33:27.255584Z",
     "start_time": "2025-10-18T10:33:27.244296Z"
    }
   },
   "cell_type": "code",
   "source": "observation_df['BP'].min(), observation_df['BP'].max()",
   "id": "c31cecbdd48dcab4",
   "outputs": [
    {
     "data": {
      "text/plain": [
       "(np.float64(90.0), np.float64(120.0))"
      ]
     },
     "execution_count": 96,
     "metadata": {},
     "output_type": "execute_result"
    }
   ],
   "execution_count": 96
  },
  {
   "metadata": {
    "ExecuteTime": {
     "end_time": "2025-10-18T10:34:04.047998Z",
     "start_time": "2025-10-18T10:34:03.917732Z"
    }
   },
   "cell_type": "code",
   "source": [
    "#Heart rate\n",
    "sns.histplot(observation_df['HR'])\n",
    "#pretty bimodal, but realistic values"
   ],
   "id": "329382227eb59213",
   "outputs": [
    {
     "data": {
      "text/plain": [
       "<Axes: xlabel='HR', ylabel='Count'>"
      ]
     },
     "execution_count": 97,
     "metadata": {},
     "output_type": "execute_result"
    },
    {
     "data": {
      "text/plain": [
       "<Figure size 640x480 with 1 Axes>"
      ],
      "image/png": "[encoded data removed]"
     },
     "metadata": {},
     "output_type": "display_data"
    }
   ],
   "execution_count": 97
  },
  {
   "metadata": {
    "ExecuteTime": {
     "end_time": "2025-10-18T10:34:34.636343Z",
     "start_time": "2025-10-18T10:34:34.551243Z"
    }
   },
   "cell_type": "code",
   "source": "sns.boxplot(y = observation_df['HR'])",
   "id": "584655a20c59d517",
   "outputs": [
    {
     "data": {
      "text/plain": [
       "<Axes: ylabel='HR'>"
      ]
     },
     "execution_count": 98,
     "metadata": {},
     "output_type": "execute_result"
    },
    {
     "data": {
      "text/plain": [
       "<Figure size 640x480 with 1 Axes>"
      ],
      "image/png": "[encoded data removed]"
     },
     "metadata": {},
     "output_type": "display_data"
    }
   ],
   "execution_count": 98
  },
  {
   "metadata": {
    "ExecuteTime": {
     "end_time": "2025-10-18T10:36:17.652028Z",
     "start_time": "2025-10-18T10:36:17.547588Z"
    }
   },
   "cell_type": "code",
   "source": [
    "#ETCO2\n",
    "sns.histplot(observation_df['EtCO₂'])\n",
    "#also bimodal"
   ],
   "id": "998d24eb4c1a2b8b",
   "outputs": [
    {
     "data": {
      "text/plain": [
       "<Axes: xlabel='EtCO₂', ylabel='Count'>"
      ]
     },
     "execution_count": 99,
     "metadata": {},
     "output_type": "execute_result"
    },
    {
     "name": "stderr",
     "output_type": "stream",
     "text": [
      "/Users/kazimir/Library/Python/3.9/lib/python/site-packages/IPython/core/events.py:82: UserWarning: Glyph 8322 (\\N{SUBSCRIPT TWO}) missing from font(s) Arial.\n",
      "  func(*args, **kwargs)\n",
      "/Users/kazimir/Library/Python/3.9/lib/python/site-packages/IPython/core/pylabtools.py:152: UserWarning: Glyph 8322 (\\N{SUBSCRIPT TWO}) missing from font(s) Arial.\n",
      "  fig.canvas.print_figure(bytes_io, **kw)\n"
     ]
    },
    {
     "data": {
      "text/plain": [
       "<Figure size 640x480 with 1 Axes>"
      ],
      "image/png": "[encoded data removed]"
     },
     "metadata": {},
     "output_type": "display_data"
    }
   ],
   "execution_count": 99
  },
  {
   "metadata": {
    "ExecuteTime": {
     "end_time": "2025-10-18T10:36:38.879702Z",
     "start_time": "2025-10-18T10:36:38.593213Z"
    }
   },
   "cell_type": "code",
   "source": "sns.boxplot(observation_df['EtCO₂'])",
   "id": "32ff7a51b088e7be",
   "outputs": [
    {
     "data": {
      "text/plain": [
       "<Axes: ylabel='EtCO₂'>"
      ]
     },
     "execution_count": 100,
     "metadata": {},
     "output_type": "execute_result"
    },
    {
     "name": "stderr",
     "output_type": "stream",
     "text": [
      "/Users/kazimir/Library/Python/3.9/lib/python/site-packages/IPython/core/events.py:82: UserWarning: Glyph 8322 (\\N{SUBSCRIPT TWO}) missing from font(s) Arial.\n",
      "  func(*args, **kwargs)\n",
      "/Users/kazimir/Library/Python/3.9/lib/python/site-packages/IPython/core/pylabtools.py:152: UserWarning: Glyph 8322 (\\N{SUBSCRIPT TWO}) missing from font(s) Arial.\n",
      "  fig.canvas.print_figure(bytes_io, **kw)\n"
     ]
    },
    {
     "data": {
      "text/plain": [
       "<Figure size 640x480 with 1 Axes>"
      ],
      "image/png": "[encoded data removed]"
     },
     "metadata": {},
     "output_type": "display_data"
    }
   ],
   "execution_count": 100
  },
  {
   "metadata": {
    "ExecuteTime": {
     "end_time": "2025-10-18T10:43:59.629921Z",
     "start_time": "2025-10-18T10:43:59.603278Z"
    }
   },
   "cell_type": "code",
   "source": [
    "observation_df['EtCO₂'].min(), observation_df['EtCO₂'].max()\n",
    "#also usual values"
   ],
   "id": "fceeb1beac9f510b",
   "outputs": [
    {
     "data": {
      "text/plain": [
       "(np.float64(35.0), np.float64(45.0))"
      ]
     },
     "execution_count": 101,
     "metadata": {},
     "output_type": "execute_result"
    }
   ],
   "execution_count": 101
  },
  {
   "metadata": {},
   "cell_type": "code",
   "outputs": [],
   "execution_count": null,
   "source": "",
   "id": "72d10912a28bdf6a"
  }
 ],
 "metadata": {
  "kernelspec": {
   "display_name": "Python 3",
   "language": "python",
   "name": "python3"
  },
  "language_info": {
   "codemirror_mode": {
    "name": "ipython",
    "version": 2
   },
   "file_extension": ".py",
   "mimetype": "text/x-python",
   "name": "python",
   "nbconvert_exporter": "python",
   "pygments_lexer": "ipython2",
   "version": "2.7.6"
  }
 },
 "nbformat": 4,
 "nbformat_minor": 5
}
