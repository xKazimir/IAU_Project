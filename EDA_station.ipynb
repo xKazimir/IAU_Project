{
 "cells": [
  {
   "cell_type": "code",
   "id": "initial_id",
   "metadata": {
    "collapsed": true,
    "ExecuteTime": {
     "end_time": "2025-10-07T12:54:05.892408Z",
     "start_time": "2025-10-07T12:54:05.281135Z"
    }
   },
   "source": [
    "import pandas as pd\n",
    "import re\n",
    "import seaborn as sns"
   ],
   "outputs": [],
   "execution_count": 14
  },
  {
   "metadata": {
    "ExecuteTime": {
     "end_time": "2025-10-07T12:52:30.442618Z",
     "start_time": "2025-10-07T12:52:30.435972Z"
    }
   },
   "cell_type": "code",
   "source": "station_df = pd.read_csv('132/station.csv', sep= '\\t')",
   "id": "4a0e77fadf81281f",
   "outputs": [],
   "execution_count": 9
  },
  {
   "metadata": {
    "ExecuteTime": {
     "end_time": "2025-10-07T12:53:24.926776Z",
     "start_time": "2025-10-07T12:53:24.920691Z"
    }
   },
   "cell_type": "code",
   "source": "station_df",
   "id": "7990ce02b61032dc",
   "outputs": [
    {
     "data": {
      "text/plain": [
       "             QoS code  latitude              revision  longitude  \\\n",
       "0           good   JP  36.00000            2020-11-25  139.55722   \n",
       "1      excellent   IN  11.93381  05/24/2021, 00:00:00   79.82979   \n",
       "2    maintenance   DE  52.21099            2022-05-10    7.02238   \n",
       "3      excellent   CN  41.09822            2018-01-23  120.74792   \n",
       "4           good   US  33.54428           08 Jun 2024  -84.23381   \n",
       "..           ...  ...       ...                   ...        ...   \n",
       "698         good   IE  53.53333  05/17/2022, 00:00:00   -7.35000   \n",
       "699         good   US  45.53929  01/25/2024, 00:00:00 -122.38731   \n",
       "700    excellent   IN  17.34769            2024-01-27   78.55757   \n",
       "701   acceptable   NG   6.45407            2018-09-14    3.39467   \n",
       "702    excellent   IN  24.81757            2023/01/05   84.63445   \n",
       "\n",
       "                station  \n",
       "0               Okegawa  \n",
       "1            Puducherry  \n",
       "2                Gronau  \n",
       "3               Nanpiao  \n",
       "4           Stockbridge  \n",
       "..                  ...  \n",
       "698  An Muileann gCearr  \n",
       "699           Troutdale  \n",
       "700   Lal Bahadur Nagar  \n",
       "701               Lagos  \n",
       "702            Rafiganj  \n",
       "\n",
       "[703 rows x 6 columns]"
      ],
      "text/html": [
       "<div>\n",
       "<style scoped>\n",
       "    .dataframe tbody tr th:only-of-type {\n",
       "        vertical-align: middle;\n",
       "    }\n",
       "\n",
       "    .dataframe tbody tr th {\n",
       "        vertical-align: top;\n",
       "    }\n",
       "\n",
       "    .dataframe thead th {\n",
       "        text-align: right;\n",
       "    }\n",
       "</style>\n",
       "<table border=\"1\" class=\"dataframe\">\n",
       "  <thead>\n",
       "    <tr style=\"text-align: right;\">\n",
       "      <th></th>\n",
       "      <th>QoS</th>\n",
       "      <th>code</th>\n",
       "      <th>latitude</th>\n",
       "      <th>revision</th>\n",
       "      <th>longitude</th>\n",
       "      <th>station</th>\n",
       "    </tr>\n",
       "  </thead>\n",
       "  <tbody>\n",
       "    <tr>\n",
       "      <th>0</th>\n",
       "      <td>good</td>\n",
       "      <td>JP</td>\n",
       "      <td>36.00000</td>\n",
       "      <td>2020-11-25</td>\n",
       "      <td>139.55722</td>\n",
       "      <td>Okegawa</td>\n",
       "    </tr>\n",
       "    <tr>\n",
       "      <th>1</th>\n",
       "      <td>excellent</td>\n",
       "      <td>IN</td>\n",
       "      <td>11.93381</td>\n",
       "      <td>05/24/2021, 00:00:00</td>\n",
       "      <td>79.82979</td>\n",
       "      <td>Puducherry</td>\n",
       "    </tr>\n",
       "    <tr>\n",
       "      <th>2</th>\n",
       "      <td>maintenance</td>\n",
       "      <td>DE</td>\n",
       "      <td>52.21099</td>\n",
       "      <td>2022-05-10</td>\n",
       "      <td>7.02238</td>\n",
       "      <td>Gronau</td>\n",
       "    </tr>\n",
       "    <tr>\n",
       "      <th>3</th>\n",
       "      <td>excellent</td>\n",
       "      <td>CN</td>\n",
       "      <td>41.09822</td>\n",
       "      <td>2018-01-23</td>\n",
       "      <td>120.74792</td>\n",
       "      <td>Nanpiao</td>\n",
       "    </tr>\n",
       "    <tr>\n",
       "      <th>4</th>\n",
       "      <td>good</td>\n",
       "      <td>US</td>\n",
       "      <td>33.54428</td>\n",
       "      <td>08 Jun 2024</td>\n",
       "      <td>-84.23381</td>\n",
       "      <td>Stockbridge</td>\n",
       "    </tr>\n",
       "    <tr>\n",
       "      <th>...</th>\n",
       "      <td>...</td>\n",
       "      <td>...</td>\n",
       "      <td>...</td>\n",
       "      <td>...</td>\n",
       "      <td>...</td>\n",
       "      <td>...</td>\n",
       "    </tr>\n",
       "    <tr>\n",
       "      <th>698</th>\n",
       "      <td>good</td>\n",
       "      <td>IE</td>\n",
       "      <td>53.53333</td>\n",
       "      <td>05/17/2022, 00:00:00</td>\n",
       "      <td>-7.35000</td>\n",
       "      <td>An Muileann gCearr</td>\n",
       "    </tr>\n",
       "    <tr>\n",
       "      <th>699</th>\n",
       "      <td>good</td>\n",
       "      <td>US</td>\n",
       "      <td>45.53929</td>\n",
       "      <td>01/25/2024, 00:00:00</td>\n",
       "      <td>-122.38731</td>\n",
       "      <td>Troutdale</td>\n",
       "    </tr>\n",
       "    <tr>\n",
       "      <th>700</th>\n",
       "      <td>excellent</td>\n",
       "      <td>IN</td>\n",
       "      <td>17.34769</td>\n",
       "      <td>2024-01-27</td>\n",
       "      <td>78.55757</td>\n",
       "      <td>Lal Bahadur Nagar</td>\n",
       "    </tr>\n",
       "    <tr>\n",
       "      <th>701</th>\n",
       "      <td>acceptable</td>\n",
       "      <td>NG</td>\n",
       "      <td>6.45407</td>\n",
       "      <td>2018-09-14</td>\n",
       "      <td>3.39467</td>\n",
       "      <td>Lagos</td>\n",
       "    </tr>\n",
       "    <tr>\n",
       "      <th>702</th>\n",
       "      <td>excellent</td>\n",
       "      <td>IN</td>\n",
       "      <td>24.81757</td>\n",
       "      <td>2023/01/05</td>\n",
       "      <td>84.63445</td>\n",
       "      <td>Rafiganj</td>\n",
       "    </tr>\n",
       "  </tbody>\n",
       "</table>\n",
       "<p>703 rows × 6 columns</p>\n",
       "</div>"
      ]
     },
     "execution_count": 10,
     "metadata": {},
     "output_type": "execute_result"
    }
   ],
   "execution_count": 10
  },
  {
   "metadata": {
    "ExecuteTime": {
     "end_time": "2025-10-07T12:59:22.288100Z",
     "start_time": "2025-10-07T12:59:22.264513Z"
    }
   },
   "cell_type": "code",
   "source": "station_df.describe() # prob useless",
   "id": "b31d4211057360e3",
   "outputs": [
    {
     "data": {
      "text/plain": [
       "         latitude   longitude\n",
       "count  703.000000  703.000000\n",
       "mean    28.699220   16.946846\n",
       "std     24.406067   70.122555\n",
       "min    -44.396720 -156.474320\n",
       "25%     14.354040  -14.410810\n",
       "50%     36.650000   13.321270\n",
       "75%     47.432685   71.552920\n",
       "max     65.848110  171.253640"
      ],
      "text/html": [
       "<div>\n",
       "<style scoped>\n",
       "    .dataframe tbody tr th:only-of-type {\n",
       "        vertical-align: middle;\n",
       "    }\n",
       "\n",
       "    .dataframe tbody tr th {\n",
       "        vertical-align: top;\n",
       "    }\n",
       "\n",
       "    .dataframe thead th {\n",
       "        text-align: right;\n",
       "    }\n",
       "</style>\n",
       "<table border=\"1\" class=\"dataframe\">\n",
       "  <thead>\n",
       "    <tr style=\"text-align: right;\">\n",
       "      <th></th>\n",
       "      <th>latitude</th>\n",
       "      <th>longitude</th>\n",
       "    </tr>\n",
       "  </thead>\n",
       "  <tbody>\n",
       "    <tr>\n",
       "      <th>count</th>\n",
       "      <td>703.000000</td>\n",
       "      <td>703.000000</td>\n",
       "    </tr>\n",
       "    <tr>\n",
       "      <th>mean</th>\n",
       "      <td>28.699220</td>\n",
       "      <td>16.946846</td>\n",
       "    </tr>\n",
       "    <tr>\n",
       "      <th>std</th>\n",
       "      <td>24.406067</td>\n",
       "      <td>70.122555</td>\n",
       "    </tr>\n",
       "    <tr>\n",
       "      <th>min</th>\n",
       "      <td>-44.396720</td>\n",
       "      <td>-156.474320</td>\n",
       "    </tr>\n",
       "    <tr>\n",
       "      <th>25%</th>\n",
       "      <td>14.354040</td>\n",
       "      <td>-14.410810</td>\n",
       "    </tr>\n",
       "    <tr>\n",
       "      <th>50%</th>\n",
       "      <td>36.650000</td>\n",
       "      <td>13.321270</td>\n",
       "    </tr>\n",
       "    <tr>\n",
       "      <th>75%</th>\n",
       "      <td>47.432685</td>\n",
       "      <td>71.552920</td>\n",
       "    </tr>\n",
       "    <tr>\n",
       "      <th>max</th>\n",
       "      <td>65.848110</td>\n",
       "      <td>171.253640</td>\n",
       "    </tr>\n",
       "  </tbody>\n",
       "</table>\n",
       "</div>"
      ]
     },
     "execution_count": 28,
     "metadata": {},
     "output_type": "execute_result"
    }
   ],
   "execution_count": 28
  },
  {
   "metadata": {
    "ExecuteTime": {
     "end_time": "2025-10-07T12:53:30.211279Z",
     "start_time": "2025-10-07T12:53:30.203935Z"
    }
   },
   "cell_type": "code",
   "source": "station_df.shape",
   "id": "776465a78748aca1",
   "outputs": [
    {
     "data": {
      "text/plain": [
       "(703, 6)"
      ]
     },
     "execution_count": 12,
     "metadata": {},
     "output_type": "execute_result"
    }
   ],
   "execution_count": 12
  },
  {
   "metadata": {
    "ExecuteTime": {
     "end_time": "2025-10-07T12:53:32.956797Z",
     "start_time": "2025-10-07T12:53:32.952421Z"
    }
   },
   "cell_type": "code",
   "source": "station_df.columns\n",
   "id": "e6139310161b75be",
   "outputs": [
    {
     "data": {
      "text/plain": [
       "Index(['QoS', 'code', 'latitude', 'revision', 'longitude', 'station'], dtype='object')"
      ]
     },
     "execution_count": 13,
     "metadata": {},
     "output_type": "execute_result"
    }
   ],
   "execution_count": 13
  },
  {
   "metadata": {
    "ExecuteTime": {
     "end_time": "2025-10-07T12:54:36.064900Z",
     "start_time": "2025-10-07T12:54:36.059093Z"
    }
   },
   "cell_type": "code",
   "source": "station_df.isna().sum()",
   "id": "a9bcf211ffd6edc0",
   "outputs": [
    {
     "data": {
      "text/plain": [
       "QoS          0\n",
       "code         2\n",
       "latitude     0\n",
       "revision     0\n",
       "longitude    0\n",
       "station      0\n",
       "dtype: int64"
      ]
     },
     "execution_count": 18,
     "metadata": {},
     "output_type": "execute_result"
    }
   ],
   "execution_count": 18
  },
  {
   "metadata": {
    "ExecuteTime": {
     "end_time": "2025-10-07T12:55:49.156762Z",
     "start_time": "2025-10-07T12:55:49.145452Z"
    }
   },
   "cell_type": "code",
   "source": "station_df[station_df['code'].isna() == True]",
   "id": "e21c3040d4b011a9",
   "outputs": [
    {
     "data": {
      "text/plain": [
       "             QoS code  latitude              revision  longitude    station\n",
       "274  maintenance  NaN -21.98333  02/23/2016, 00:00:00   16.91667  Okahandja\n",
       "318         good  NaN -21.98333           06 Dec 2021   16.91667  Okahandja"
      ],
      "text/html": [
       "<div>\n",
       "<style scoped>\n",
       "    .dataframe tbody tr th:only-of-type {\n",
       "        vertical-align: middle;\n",
       "    }\n",
       "\n",
       "    .dataframe tbody tr th {\n",
       "        vertical-align: top;\n",
       "    }\n",
       "\n",
       "    .dataframe thead th {\n",
       "        text-align: right;\n",
       "    }\n",
       "</style>\n",
       "<table border=\"1\" class=\"dataframe\">\n",
       "  <thead>\n",
       "    <tr style=\"text-align: right;\">\n",
       "      <th></th>\n",
       "      <th>QoS</th>\n",
       "      <th>code</th>\n",
       "      <th>latitude</th>\n",
       "      <th>revision</th>\n",
       "      <th>longitude</th>\n",
       "      <th>station</th>\n",
       "    </tr>\n",
       "  </thead>\n",
       "  <tbody>\n",
       "    <tr>\n",
       "      <th>274</th>\n",
       "      <td>maintenance</td>\n",
       "      <td>NaN</td>\n",
       "      <td>-21.98333</td>\n",
       "      <td>02/23/2016, 00:00:00</td>\n",
       "      <td>16.91667</td>\n",
       "      <td>Okahandja</td>\n",
       "    </tr>\n",
       "    <tr>\n",
       "      <th>318</th>\n",
       "      <td>good</td>\n",
       "      <td>NaN</td>\n",
       "      <td>-21.98333</td>\n",
       "      <td>06 Dec 2021</td>\n",
       "      <td>16.91667</td>\n",
       "      <td>Okahandja</td>\n",
       "    </tr>\n",
       "  </tbody>\n",
       "</table>\n",
       "</div>"
      ]
     },
     "execution_count": 23,
     "metadata": {},
     "output_type": "execute_result"
    }
   ],
   "execution_count": 23
  },
  {
   "metadata": {
    "ExecuteTime": {
     "end_time": "2025-10-07T12:56:44.695859Z",
     "start_time": "2025-10-07T12:56:44.602339Z"
    }
   },
   "cell_type": "code",
   "source": "sns.histplot(station_df['QoS'])",
   "id": "2f6fce25f6377177",
   "outputs": [
    {
     "data": {
      "text/plain": [
       "<Axes: xlabel='QoS', ylabel='Count'>"
      ]
     },
     "execution_count": 25,
     "metadata": {},
     "output_type": "execute_result"
    },
    {
     "data": {
      "text/plain": [
       "<Figure size 640x480 with 1 Axes>"
      ],
      "image/png": "[encoded data removed]"
     },
     "metadata": {},
     "output_type": "display_data"
    }
   ],
   "execution_count": 25
  },
  {
   "metadata": {
    "ExecuteTime": {
     "end_time": "2025-10-07T12:57:33.981163Z",
     "start_time": "2025-10-07T12:57:33.972095Z"
    }
   },
   "cell_type": "code",
   "source": "station_df['code'].unique()\n",
   "id": "cc5bec2506c964b2",
   "outputs": [
    {
     "data": {
      "text/plain": [
       "array(['JP', 'IN', 'DE', 'CN', 'US', 'PH', 'RU', 'AZ', 'ES', 'AU', 'BE',\n",
       "       'TN', 'NL', 'GB', 'BD', 'CD', 'BR', 'PK', 'MX', 'ZA', 'CZ', 'ID',\n",
       "       'CA', 'DZ', 'LY', 'FR', 'CI', 'TR', 'BG', 'HK', 'GE', 'IL', 'LK',\n",
       "       'PR', 'IT', 'SE', 'CM', 'CL', 'MM', 'TZ', 'MA', 'UA', 'FI', 'BW',\n",
       "       'LR', 'VN', 'AR', 'NG', 'TT', 'AO', 'PT', 'BY', 'KR', 'NZ', 'UG',\n",
       "       'KE', 'IR', 'CH', 'CO', 'KZ', 'SV', 'MN', 'MK', 'VE', 'MG', nan,\n",
       "       'DJ', 'CF', 'TH', 'ET', 'PL', 'PE', 'PS', 'EG', 'DO', 'HR', 'BJ',\n",
       "       'MY', 'RO', 'AM', 'HT', 'VU', 'SY', 'MZ', 'RW', 'PG', 'GD', 'SL',\n",
       "       'NI', 'IE', 'NE', 'UZ', 'TD', 'EC', 'DK', 'CU', 'GH', 'AF', 'AT'],\n",
       "      dtype=object)"
      ]
     },
     "execution_count": 26,
     "metadata": {},
     "output_type": "execute_result"
    }
   ],
   "execution_count": 26
  },
  {
   "metadata": {
    "ExecuteTime": {
     "end_time": "2025-10-07T13:01:16.845772Z",
     "start_time": "2025-10-07T13:01:16.838890Z"
    }
   },
   "cell_type": "code",
   "source": "station_df['code'].value_counts()",
   "id": "94f2a82437a696d5",
   "outputs": [
    {
     "data": {
      "text/plain": [
       "code\n",
       "US    94\n",
       "IN    51\n",
       "RU    50\n",
       "DE    41\n",
       "BR    36\n",
       "      ..\n",
       "HK     1\n",
       "CF     1\n",
       "CH     1\n",
       "KZ     1\n",
       "AT     1\n",
       "Name: count, Length: 98, dtype: int64"
      ]
     },
     "execution_count": 33,
     "metadata": {},
     "output_type": "execute_result"
    }
   ],
   "execution_count": 33
  },
  {
   "metadata": {
    "ExecuteTime": {
     "end_time": "2025-10-07T12:57:48.690983Z",
     "start_time": "2025-10-07T12:57:48.676714Z"
    }
   },
   "cell_type": "code",
   "source": "station_df['station'].unique()\n",
   "id": "f070a88eee9466d7",
   "outputs": [
    {
     "data": {
      "text/plain": [
       "array(['Okegawa', 'Puducherry', 'Gronau', 'Nanpiao', 'Stockbridge',\n",
       "       'Guyong', 'Shushary', 'Qazax', 'Verl', 'Leioa', 'Zhukovka',\n",
       "       'Wheelers Hill', 'Beveren', 'Ueno-ebisumachi', 'Bretten',\n",
       "       'Beni Khiar', 'Oldenzaal', 'Gainsborough', 'Danjiangkou',\n",
       "       'Zhoucun', 'Porterville', 'Izluchinsk', 'Weimar', 'Shimotoda',\n",
       "       'Yingkou', 'Manikchari', 'Kasangulu', 'Caldas Novas', 'Viradouro',\n",
       "       'Bhit Shah', 'Lesosibirsk', 'Contla', 'Hutchinson', 'Yablonovskiy',\n",
       "       'Standerton', 'Glendale', 'Plzeň', 'Kediri', 'Sydney', 'Lancing',\n",
       "       'Cheraga', 'Saharsa', 'Barneveld', 'Newbury', 'Pucheng',\n",
       "       'Kot Addu', 'Ghat', 'Searcy', 'Manjeri', 'Talence', 'Lakota',\n",
       "       'Griffith', 'Heyuan', 'Serinhisar', 'Annaka', 'Solntsevo',\n",
       "       'Pekanbaru', 'Jackson', 'Smolyan', 'Tsuen Wan', 'Yonkers',\n",
       "       'Herblay', 'Buri', 'Danilov', 'Kobuleti', 'Rahat', 'Shinshiro',\n",
       "       'Morningside Heights', 'Greenfield', 'Bavly',\n",
       "       'Nikolayevsk-on-Amure', 'Dehiwala-Mount Lavinia', 'Murray',\n",
       "       'Ulan-Ude', 'Yauco', 'Kachkanar', 'Arbroath',\n",
       "       'Castelfranco Emilia', 'Suzaka', 'Jais', 'Hudiksvall', 'Boumerdas',\n",
       "       'Idenao', 'Nizhniy Lomov', 'Valday', 'Ajaccio', 'Tupelo', 'Ovalle',\n",
       "       'Waverly', 'Dawei', 'Usagara', 'Nampa', 'Pottstown', 'Nidderau',\n",
       "       'Motomachi', 'Yashkino', 'Azrou', 'Polohy', 'Kallio',\n",
       "       'Clacton-on-Sea', 'Antipolo', 'Ina', 'Tonota',\n",
       "       'Roseto degli Abruzzi', 'New Yekepa', 'Sa Dec', 'Keene',\n",
       "       'Front Royal', 'Malden', 'Pontevedra', 'Gingee', 'Korschenbroich',\n",
       "       'Paracho de Verduzco', 'Lal Bahadur Nagar',\n",
       "       'San Giuliano Milanese', 'Aguilares', 'Ariccia', 'Biu',\n",
       "       'Radevormwald', 'Mardin', 'Leyland', 'Deoli', 'Saratoga Springs',\n",
       "       'Beaconsfield', 'Guaraciaba do Norte', 'Port of Spain', 'Kearns',\n",
       "       'Luena', 'Paredes', 'Vryheid', 'Hushitai', 'San Lorenzo Acopilco',\n",
       "       'Sarandi', 'Aberdeen', 'Mudanya', 'Novogrudok', 'Miracema',\n",
       "       'Culemborg', 'Oschatz', 'Landshut', 'Emmeloord', 'Estelle',\n",
       "       'Strood', 'Zhoushan', 'Hartley', 'Perth', 'Muritiba', 'Agrigento',\n",
       "       'Nonsan', 'Pujali', 'Severodvinsk', 'Pune', 'Chacabuco',\n",
       "       'South Whittier', 'Amreli', 'Pandua', 'South Lawndale', 'Timaru',\n",
       "       'El Alia', 'Bonoua', 'Ferrol', 'Terezín', 'Jashpurnagar', 'Arua',\n",
       "       'Waterbury', 'Lons-le-Saunier', 'Albufeira', 'Rafaela', 'Uran',\n",
       "       'Afragola', 'Kitgum', 'Rio Real', 'Losser', 'Mouscron',\n",
       "       'Diamond Harbour', 'Barra dos Coqueiros', 'Busia', 'Wevelgem',\n",
       "       'Ostrava', 'Aytos', 'Alipur', 'Tonga', 'Rutherglen', 'Ajdabiya',\n",
       "       'Mwandiga', 'Zeitz', 'Inverness', 'La Garenne-Colombes',\n",
       "       'Magomeni', 'Arles', 'Southsea', 'Maspalomas', 'Aleshtar',\n",
       "       'Portogruaro', 'Bensheim', 'Fazilpur', 'Carindale', 'Gero',\n",
       "       'Sheoganj', 'Gauting', 'Gaziantep', 'Odessa', 'Onex', 'El Copey',\n",
       "       'Dipolog', 'Beni', 'Kahului', 'Malakhovka', 'Oulmes',\n",
       "       'České Budějovice', 'Longview', 'Kashipur', 'Kyzylorda',\n",
       "       'Jambi City', 'Pedro II', 'Gudermes', 'Ilopango', 'Rangia',\n",
       "       'Ulan Bator', 'Encinitas', 'Kidodi', 'Eastwood', 'Shreveport',\n",
       "       'Talipparamba', 'Losheim', 'Hungund', 'Nonoichi', 'Tavda', 'Saraj',\n",
       "       'Esmeraldas', 'West Chester', 'Ganei Tikva', 'Ciudad Guayana',\n",
       "       'Sathyamangalam', 'Ambatondrazaka', 'Okahandja', 'Great Wyrley',\n",
       "       'Bhuban', \"'Ali Sabieh\", 'Stuttgart', 'Xinzhou', 'Les Olives',\n",
       "       'Carnot', 'Bon Air', 'Thap Than', \"el Camp de l'Arpa del Clot\",\n",
       "       'Gernika-Lumo', 'Adra', 'Dublin', 'Loanda', 'Jocotepec',\n",
       "       'Shuangcheng', 'Exeter', 'Beryozovsky', 'Edremit', 'Belper',\n",
       "       'Camarillo', 'Debre Tabor', 'Ilesa', 'Jaworzno', 'Masbate',\n",
       "       'Hengshui', 'Valence', 'Tver', 'Mitry-Mory', 'Patnos', 'Tandil',\n",
       "       'Minas de Marcona', 'Baliuag', 'Goyang-si', 'Český Krumlov',\n",
       "       'Ustka', 'Harrisburg', 'Jingzhou', 'Sicklerville', 'Covington',\n",
       "       'Barpeta', 'Nova Kakhovka', 'Wangon', 'Carlos Barbosa',\n",
       "       'Hofheim am Taunus', 'Wittenau', 'Kelowna', 'East Jerusalem',\n",
       "       'Nova Xavantina', 'Sunnyside', 'Viewpark', 'Juhaynah', 'Penzance',\n",
       "       'Jindřichův Hradec', 'Vienne', 'Oktyabr‚Äôskiy',\n",
       "       'Visitacion Valley', 'Vestavia Hills', 'Licheng',\n",
       "       'Santa Cruz de Barahona', 'Kundla', 'Schererville', 'Alatyr‚Äô',\n",
       "       'Carnegie', 'Kherson', 'Nkpor', 'Ulanhot', 'Las Gabias',\n",
       "       'Canavieiras', 'Soledade', 'Taozhuang', 'Fort Washington',\n",
       "       'Gainesville', 'Greenville', 'Dax', 'Pato Branco', 'Hongseong',\n",
       "       'Beaumont', 'Lakewood', 'Boli', 'Parola', 'San Juan', 'Hoxtolgay',\n",
       "       'Pamiers', 'Split', 'Tchaourou', 'Jerada', 'Kolomyagi', 'Simpang',\n",
       "       'Teluk Intan', 'Taunton', 'Tornio', 'Davis', 'Batu Feringgi',\n",
       "       'Kantharalak', 'Montana', 'Telč', 'Strathfield', 'Sector 6',\n",
       "       'Toyokawa', 'Patti', 'Casa Blanca', 'Meerut', 'Valinhos',\n",
       "       'Inawashiro', 'Krasyliv', 'La Victoria', 'Zeist', 'Hrazdan',\n",
       "       'Somma Vesuviana', 'Sukabumi', 'Msaken', 'Ngemplak', 'Foshan',\n",
       "       'Cardedeu', 'Croix-des-Bouquets', 'Walsrode', 'Port-Vila',\n",
       "       'Dharmapuri', 'Volokolamsk', 'Arba Minch', 'Ozersk', 'Kaukauna',\n",
       "       'Tadmur', 'Westbury', 'Maxixe', 'Chillum', 'Bogoroditsk', 'Laiwu',\n",
       "       'Talavera de la Reina', 'Rwamagana', 'Marseille 11', 'Mount Hagen',\n",
       "       'Sceaux', 'Grenville', 'Ada', 'Iturama', 'Damnoen Saduak', 'Honda',\n",
       "       'Nyahururu', 'Pfullingen', 'Selby', 'Claremont', 'Moga',\n",
       "       'Lesozavodsk', 'Chanika', 'Freetown', 'Beni Douala',\n",
       "       'Gajendragarh', 'Opportunity', 'Boo', 'Minokamo', 'Ishim',\n",
       "       'Barmbek-Nord', 'Jinotepe', 'Gariadhar', 'Francavilla Fontana',\n",
       "       'Robertsonpet', 'Lower West Side', 'Kashira', 'Fitchburg',\n",
       "       'Athlone', 'Bridgeport', 'Phanat Nikhom', 'Kushtia', 'Mirriah',\n",
       "       'Srinagar', 'Olupona', 'Talisay', 'Sharypovo', 'Kutná Hora',\n",
       "       'Peabody', 'Mianwali', 'Otradnyy', 'Collinwood', 'Shaowu',\n",
       "       'American Canyon', 'Gorgonzola', 'Montpellier', 'East Haven',\n",
       "       'Friedberg', 'Ikalamavony', 'Novelda', 'Caravaca', 'Sonzacate',\n",
       "       'Bisceglie', 'Rolla', 'Jizzax', 'Zacoalco de Torres',\n",
       "       'Petrozavodsk', 'Betamcherla', 'Guanajuato', 'Ragusa', 'Nowra',\n",
       "       'Iquitos', 'Gorakhpur', 'Mongo', 'Larkana', 'Artsyz',\n",
       "       'Pointe-Claire', 'Cibinong', 'Tebingtinggi', 'Yao', 'Barinas',\n",
       "       'Milagro', 'Roi Et', 'Frenda', 'Kent', 'Neuburg an der Donau',\n",
       "       'Sangla Hill', 'Thomasville', 'Cavaillon', 'Guli', 'Eisen',\n",
       "       'Nakhon Si Thammarat', 'La Ligua', 'Frederiksberg', 'Jaruco',\n",
       "       'Buynaksk', 'Sungurlu', 'Tarkwa', 'Bothell West', 'Houthalen',\n",
       "       'Villaquilambre', 'Marau', 'Kingston upon Hull',\n",
       "       'Fairview Heights', 'Winsford', 'Schleswig', 'Aklera', 'Haicheng',\n",
       "       'Dalsingh Sarai', 'Kireyevsk', 'Tudela', 'Norwalk', 'Maasin',\n",
       "       'Zgorzelec', 'Bourbonnais', 'Muncar', 'Clermont', 'Venice',\n",
       "       'Beidao', 'Labuhan Deli', 'Lompoc', 'Zvenihorodka', 'Albstadt',\n",
       "       'Sun City Center', 'Sar-e Pul', 'Madrid', 'Punta Gorda Isles',\n",
       "       'Alexandria', 'Cowes', 'La Trinidad', 'Memmingen', 'Barras',\n",
       "       'Amposta', 'Floridsdorf', 'Baulkham Hills', 'An Muileann gCearr',\n",
       "       'Troutdale', 'Lagos', 'Rafiganj'], dtype=object)"
      ]
     },
     "execution_count": 27,
     "metadata": {},
     "output_type": "execute_result"
    }
   ],
   "execution_count": 27
  },
  {
   "metadata": {
    "ExecuteTime": {
     "end_time": "2025-10-07T13:02:07.534222Z",
     "start_time": "2025-10-07T13:02:07.516900Z"
    }
   },
   "cell_type": "code",
   "source": "station_df.duplicated().sum()\n",
   "id": "7a70ffd2f7b98926",
   "outputs": [
    {
     "data": {
      "text/plain": [
       "np.int64(0)"
      ]
     },
     "execution_count": 34,
     "metadata": {},
     "output_type": "execute_result"
    }
   ],
   "execution_count": 34
  },
  {
   "metadata": {},
   "cell_type": "code",
   "outputs": [],
   "execution_count": null,
   "source": "",
   "id": "90f4efa39e4f09d3"
  }
 ],
 "metadata": {
  "kernelspec": {
   "display_name": "Python 3",
   "language": "python",
   "name": "python3"
  },
  "language_info": {
   "codemirror_mode": {
    "name": "ipython",
    "version": 2
   },
   "file_extension": ".py",
   "mimetype": "text/x-python",
   "name": "python",
   "nbconvert_exporter": "python",
   "pygments_lexer": "ipython2",
   "version": "2.7.6"
  }
 },
 "nbformat": 4,
 "nbformat_minor": 5
}
