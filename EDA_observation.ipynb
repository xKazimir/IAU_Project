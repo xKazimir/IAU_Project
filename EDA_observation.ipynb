{
 "cells": [
  {
   "cell_type": "code",
   "id": "initial_id",
   "metadata": {
    "collapsed": true,
    "ExecuteTime": {
     "end_time": "2025-10-07T12:29:50.397802Z",
     "start_time": "2025-10-07T12:29:50.092418Z"
    }
   },
   "source": "import pandas as pd",
   "outputs": [],
   "execution_count": 1
  },
  {
   "metadata": {
    "ExecuteTime": {
     "end_time": "2025-10-07T12:44:40.743691Z",
     "start_time": "2025-10-07T12:44:40.681435Z"
    }
   },
   "cell_type": "code",
   "source": "observation_df = pd.read_csv('132/observation.csv')",
   "id": "d148b753f232cf58",
   "outputs": [],
   "execution_count": 5
  },
  {
   "metadata": {
    "ExecuteTime": {
     "end_time": "2025-10-07T12:44:46.228568Z",
     "start_time": "2025-10-07T12:44:46.209870Z"
    }
   },
   "cell_type": "code",
   "source": "observation_df.head()",
   "id": "ea53176da0cad2f6",
   "outputs": [
    {
     "data": {
      "text/plain": [
       "  SpO₂\\tHR\\tPI\\tRR\\tEtCO₂\\tFiO₂\\tPRV\\tBP\\tSkin Temperature\\tMotion/Activity index\\tPVI\\tHb level\\tSV\\tCO\\tBlood Flow Index\\tPPG waveform features\\tSignal Quality Index\\tRespiratory effort\\tO₂ extraction ratio\\tSNR\\toximetry\\tlatitude\\tlongitude\n",
       "0  97.5382293098044\\t87.19474529061955\\t11.225418...                                                                                                                                                                                                \n",
       "1  97.93327057486535\\t80.78730329730374\\t11.73093...                                                                                                                                                                                                \n",
       "2  98.20998327491911\\t79.73389487313888\\t12.83944...                                                                                                                                                                                                \n",
       "3  98.20279035937158\\t86.15690260670667\\t11.20415...                                                                                                                                                                                                \n",
       "4  97.9519329395874\\t78.96625751514168\\t13.691758...                                                                                                                                                                                                "
      ],
      "text/html": [
       "<div>\n",
       "<style scoped>\n",
       "    .dataframe tbody tr th:only-of-type {\n",
       "        vertical-align: middle;\n",
       "    }\n",
       "\n",
       "    .dataframe tbody tr th {\n",
       "        vertical-align: top;\n",
       "    }\n",
       "\n",
       "    .dataframe thead th {\n",
       "        text-align: right;\n",
       "    }\n",
       "</style>\n",
       "<table border=\"1\" class=\"dataframe\">\n",
       "  <thead>\n",
       "    <tr style=\"text-align: right;\">\n",
       "      <th></th>\n",
       "      <th>SpO₂\\tHR\\tPI\\tRR\\tEtCO₂\\tFiO₂\\tPRV\\tBP\\tSkin Temperature\\tMotion/Activity index\\tPVI\\tHb level\\tSV\\tCO\\tBlood Flow Index\\tPPG waveform features\\tSignal Quality Index\\tRespiratory effort\\tO₂ extraction ratio\\tSNR\\toximetry\\tlatitude\\tlongitude</th>\n",
       "    </tr>\n",
       "  </thead>\n",
       "  <tbody>\n",
       "    <tr>\n",
       "      <th>0</th>\n",
       "      <td>97.5382293098044\\t87.19474529061955\\t11.225418...</td>\n",
       "    </tr>\n",
       "    <tr>\n",
       "      <th>1</th>\n",
       "      <td>97.93327057486535\\t80.78730329730374\\t11.73093...</td>\n",
       "    </tr>\n",
       "    <tr>\n",
       "      <th>2</th>\n",
       "      <td>98.20998327491911\\t79.73389487313888\\t12.83944...</td>\n",
       "    </tr>\n",
       "    <tr>\n",
       "      <th>3</th>\n",
       "      <td>98.20279035937158\\t86.15690260670667\\t11.20415...</td>\n",
       "    </tr>\n",
       "    <tr>\n",
       "      <th>4</th>\n",
       "      <td>97.9519329395874\\t78.96625751514168\\t13.691758...</td>\n",
       "    </tr>\n",
       "  </tbody>\n",
       "</table>\n",
       "</div>"
      ]
     },
     "execution_count": 6,
     "metadata": {},
     "output_type": "execute_result"
    }
   ],
   "execution_count": 6
  },
  {
   "metadata": {
    "ExecuteTime": {
     "end_time": "2025-10-07T12:44:55.091784Z",
     "start_time": "2025-10-07T12:44:55.060290Z"
    }
   },
   "cell_type": "code",
   "source": "observation_df.describe()",
   "id": "328d8cf400eed8cc",
   "outputs": [
    {
     "data": {
      "text/plain": [
       "       SpO₂\\tHR\\tPI\\tRR\\tEtCO₂\\tFiO₂\\tPRV\\tBP\\tSkin Temperature\\tMotion/Activity index\\tPVI\\tHb level\\tSV\\tCO\\tBlood Flow Index\\tPPG waveform features\\tSignal Quality Index\\tRespiratory effort\\tO₂ extraction ratio\\tSNR\\toximetry\\tlatitude\\tlongitude\n",
       "count                                               12177                                                                                                                                                                                                \n",
       "unique                                              12177                                                                                                                                                                                                \n",
       "top     97.5382293098044\\t87.19474529061955\\t11.225418...                                                                                                                                                                                                \n",
       "freq                                                    1                                                                                                                                                                                                "
      ],
      "text/html": [
       "<div>\n",
       "<style scoped>\n",
       "    .dataframe tbody tr th:only-of-type {\n",
       "        vertical-align: middle;\n",
       "    }\n",
       "\n",
       "    .dataframe tbody tr th {\n",
       "        vertical-align: top;\n",
       "    }\n",
       "\n",
       "    .dataframe thead th {\n",
       "        text-align: right;\n",
       "    }\n",
       "</style>\n",
       "<table border=\"1\" class=\"dataframe\">\n",
       "  <thead>\n",
       "    <tr style=\"text-align: right;\">\n",
       "      <th></th>\n",
       "      <th>SpO₂\\tHR\\tPI\\tRR\\tEtCO₂\\tFiO₂\\tPRV\\tBP\\tSkin Temperature\\tMotion/Activity index\\tPVI\\tHb level\\tSV\\tCO\\tBlood Flow Index\\tPPG waveform features\\tSignal Quality Index\\tRespiratory effort\\tO₂ extraction ratio\\tSNR\\toximetry\\tlatitude\\tlongitude</th>\n",
       "    </tr>\n",
       "  </thead>\n",
       "  <tbody>\n",
       "    <tr>\n",
       "      <th>count</th>\n",
       "      <td>12177</td>\n",
       "    </tr>\n",
       "    <tr>\n",
       "      <th>unique</th>\n",
       "      <td>12177</td>\n",
       "    </tr>\n",
       "    <tr>\n",
       "      <th>top</th>\n",
       "      <td>97.5382293098044\\t87.19474529061955\\t11.225418...</td>\n",
       "    </tr>\n",
       "    <tr>\n",
       "      <th>freq</th>\n",
       "      <td>1</td>\n",
       "    </tr>\n",
       "  </tbody>\n",
       "</table>\n",
       "</div>"
      ]
     },
     "execution_count": 7,
     "metadata": {},
     "output_type": "execute_result"
    }
   ],
   "execution_count": 7
  },
  {
   "metadata": {},
   "cell_type": "code",
   "outputs": [],
   "execution_count": null,
   "source": "",
   "id": "d3b15b7bdd4ea52f"
  }
 ],
 "metadata": {
  "kernelspec": {
   "display_name": "Python 3",
   "language": "python",
   "name": "python3"
  },
  "language_info": {
   "codemirror_mode": {
    "name": "ipython",
    "version": 2
   },
   "file_extension": ".py",
   "mimetype": "text/x-python",
   "name": "python",
   "nbconvert_exporter": "python",
   "pygments_lexer": "ipython2",
   "version": "2.7.6"
  }
 },
 "nbformat": 4,
 "nbformat_minor": 5
}
